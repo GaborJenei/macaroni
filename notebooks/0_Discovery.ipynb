{
 "cells": [
  {
   "cell_type": "markdown",
   "metadata": {},
   "source": [
    "# Data Discovery\n",
    "  \n",
    "This notebook explores the raw datasets; `Mortgage.csv` and `Campaign.csv`; individually.  \n",
    "This initial, descriptive review of raw data includes:\n",
    "- Number of rows, columns,\n",
    "- Data types of fields\n",
    "- Descriptive statistics of numerical fields\n",
    "- Cardinality of categorical fields\n",
    "- Missing values\n",
    "\n",
    "<a href='#mortgage_dataset'>1. Mortgage dataset<a>   \n",
    "<a href='#2'>2. Campaign dataset<a>  \n",
    "<a href='#3'>3. Conclusions</a>  "
   ]
  },
  {
   "cell_type": "code",
   "execution_count": 1,
   "metadata": {},
   "outputs": [],
   "source": [
    "# Imports\n",
    "import pandas as pd\n",
    "import numpy as np\n",
    "\n",
    "import matplotlib.pyplot as plt\n",
    "from matplotlib.colors import ListedColormap, LinearSegmentedColormap\n",
    "import seaborn as sns\n",
    "\n",
    "cmap = ListedColormap(['#C1B4AE', '#00864F', '#92140C', '#353238', '#BE5A38'])"
   ]
  },
  {
   "cell_type": "markdown",
   "metadata": {},
   "source": [
    "## 1. Mortgage dataset <a id='mortgage_dataset'></a>"
   ]
  },
  {
   "cell_type": "code",
   "execution_count": 79,
   "metadata": {},
   "outputs": [
    {
     "name": "stdout",
     "output_type": "stream",
     "text": [
      "Number of rows: 32561\n",
      "Number of columns: 18\n"
     ]
    },
    {
     "data": {
      "text/html": [
       "<div>\n",
       "<style scoped>\n",
       "    .dataframe tbody tr th:only-of-type {\n",
       "        vertical-align: middle;\n",
       "    }\n",
       "\n",
       "    .dataframe tbody tr th {\n",
       "        vertical-align: top;\n",
       "    }\n",
       "\n",
       "    .dataframe thead th {\n",
       "        text-align: right;\n",
       "    }\n",
       "</style>\n",
       "<table border=\"1\" class=\"dataframe\">\n",
       "  <thead>\n",
       "    <tr style=\"text-align: right;\">\n",
       "      <th></th>\n",
       "      <th>full_name</th>\n",
       "      <th>dob</th>\n",
       "      <th>town</th>\n",
       "      <th>paye</th>\n",
       "      <th>salary_band</th>\n",
       "      <th>years_with_employer</th>\n",
       "      <th>months_with_employer</th>\n",
       "      <th>hours_per_week</th>\n",
       "      <th>capital_gain</th>\n",
       "      <th>capital_loss</th>\n",
       "      <th>new_mortgage</th>\n",
       "      <th>sex</th>\n",
       "      <th>religion</th>\n",
       "      <th>relationship</th>\n",
       "      <th>race</th>\n",
       "      <th>native_country</th>\n",
       "      <th>workclass</th>\n",
       "      <th>demographic_characteristic</th>\n",
       "    </tr>\n",
       "  </thead>\n",
       "  <tbody>\n",
       "    <tr>\n",
       "      <th>0</th>\n",
       "      <td>Mr. Dale Coles</td>\n",
       "      <td>1979-05-10</td>\n",
       "      <td>Edinburgh</td>\n",
       "      <td>53791313</td>\n",
       "      <td>£18109 yearly</td>\n",
       "      <td>20</td>\n",
       "      <td>6</td>\n",
       "      <td>40</td>\n",
       "      <td>2174</td>\n",
       "      <td>0</td>\n",
       "      <td>Yes</td>\n",
       "      <td>Male</td>\n",
       "      <td>Christianity</td>\n",
       "      <td>Not-in-family</td>\n",
       "      <td>White</td>\n",
       "      <td>United Kingdom</td>\n",
       "      <td>State-gov</td>\n",
       "      <td>77516</td>\n",
       "    </tr>\n",
       "    <tr>\n",
       "      <th>1</th>\n",
       "      <td>Joel Allen</td>\n",
       "      <td>1968-07-06</td>\n",
       "      <td>Leeds</td>\n",
       "      <td>24005258</td>\n",
       "      <td>£16945 yearly</td>\n",
       "      <td>28</td>\n",
       "      <td>1</td>\n",
       "      <td>13</td>\n",
       "      <td>0</td>\n",
       "      <td>0</td>\n",
       "      <td>Yes</td>\n",
       "      <td>Male</td>\n",
       "      <td>Christianity</td>\n",
       "      <td>Husband</td>\n",
       "      <td>White</td>\n",
       "      <td>United Kingdom</td>\n",
       "      <td>Self-emp-not-inc</td>\n",
       "      <td>83311</td>\n",
       "    </tr>\n",
       "    <tr>\n",
       "      <th>2</th>\n",
       "      <td>Mr. Craig Marc Davis</td>\n",
       "      <td>1979-02-10</td>\n",
       "      <td>Edinburgh</td>\n",
       "      <td>44124649</td>\n",
       "      <td>£729.87 pw</td>\n",
       "      <td>14</td>\n",
       "      <td>5</td>\n",
       "      <td>40</td>\n",
       "      <td>0</td>\n",
       "      <td>0</td>\n",
       "      <td>Yes</td>\n",
       "      <td>Male</td>\n",
       "      <td>Christianity</td>\n",
       "      <td>Not-in-family</td>\n",
       "      <td>White</td>\n",
       "      <td>United Kingdom</td>\n",
       "      <td>Private</td>\n",
       "      <td>215646</td>\n",
       "    </tr>\n",
       "    <tr>\n",
       "      <th>3</th>\n",
       "      <td>Mr. Brandon Thornton</td>\n",
       "      <td>1965-10-20</td>\n",
       "      <td>Edinburgh</td>\n",
       "      <td>85701281</td>\n",
       "      <td>£19087 yearly</td>\n",
       "      <td>32</td>\n",
       "      <td>6</td>\n",
       "      <td>40</td>\n",
       "      <td>0</td>\n",
       "      <td>0</td>\n",
       "      <td>Yes</td>\n",
       "      <td>Male</td>\n",
       "      <td>Christianity</td>\n",
       "      <td>Husband</td>\n",
       "      <td>Black</td>\n",
       "      <td>United Kingdom</td>\n",
       "      <td>Private</td>\n",
       "      <td>234721</td>\n",
       "    </tr>\n",
       "    <tr>\n",
       "      <th>4</th>\n",
       "      <td>Miss Brett Carol Fletcher</td>\n",
       "      <td>1990-02-20</td>\n",
       "      <td>Swindon</td>\n",
       "      <td>BR442000</td>\n",
       "      <td>£2741.5 per month</td>\n",
       "      <td>3</td>\n",
       "      <td>6</td>\n",
       "      <td>40</td>\n",
       "      <td>0</td>\n",
       "      <td>0</td>\n",
       "      <td>Yes</td>\n",
       "      <td>Female</td>\n",
       "      <td>Christianity</td>\n",
       "      <td>Wife</td>\n",
       "      <td>Black</td>\n",
       "      <td>Sweden</td>\n",
       "      <td>Private</td>\n",
       "      <td>338409</td>\n",
       "    </tr>\n",
       "  </tbody>\n",
       "</table>\n",
       "</div>"
      ],
      "text/plain": [
       "                   full_name         dob       town      paye  \\\n",
       "0             Mr. Dale Coles  1979-05-10  Edinburgh  53791313   \n",
       "1                 Joel Allen  1968-07-06      Leeds  24005258   \n",
       "2       Mr. Craig Marc Davis  1979-02-10  Edinburgh  44124649   \n",
       "3       Mr. Brandon Thornton  1965-10-20  Edinburgh  85701281   \n",
       "4  Miss Brett Carol Fletcher  1990-02-20    Swindon  BR442000   \n",
       "\n",
       "         salary_band  years_with_employer  months_with_employer  \\\n",
       "0      £18109 yearly                   20                     6   \n",
       "1      £16945 yearly                   28                     1   \n",
       "2         £729.87 pw                   14                     5   \n",
       "3      £19087 yearly                   32                     6   \n",
       "4  £2741.5 per month                    3                     6   \n",
       "\n",
       "   hours_per_week  capital_gain  capital_loss new_mortgage     sex  \\\n",
       "0              40          2174             0          Yes    Male   \n",
       "1              13             0             0          Yes    Male   \n",
       "2              40             0             0          Yes    Male   \n",
       "3              40             0             0          Yes    Male   \n",
       "4              40             0             0          Yes  Female   \n",
       "\n",
       "       religion   relationship   race  native_country         workclass  \\\n",
       "0  Christianity  Not-in-family  White  United Kingdom         State-gov   \n",
       "1  Christianity        Husband  White  United Kingdom  Self-emp-not-inc   \n",
       "2  Christianity  Not-in-family  White  United Kingdom           Private   \n",
       "3  Christianity        Husband  Black  United Kingdom           Private   \n",
       "4  Christianity           Wife  Black          Sweden           Private   \n",
       "\n",
       "   demographic_characteristic  \n",
       "0                       77516  \n",
       "1                       83311  \n",
       "2                      215646  \n",
       "3                      234721  \n",
       "4                      338409  "
      ]
     },
     "execution_count": 79,
     "metadata": {},
     "output_type": "execute_result"
    }
   ],
   "source": [
    "# Read up data and display the head of dataframe\n",
    "df_mortgage = pd.read_csv('../data/0_raw/Mortgage.csv')\n",
    "print(f'Number of rows: {len(df_mortgage)}\\nNumber of columns: {len(df_mortgage.columns)}')\n",
    "df_mortgage.head()"
   ]
  },
  {
   "cell_type": "markdown",
   "metadata": {},
   "source": [
    "### 1.1 Data types of the columns <a id='1_1'></a>\n",
    "(as pandas inferred during reading them up)"
   ]
  },
  {
   "cell_type": "code",
   "execution_count": 3,
   "metadata": {},
   "outputs": [
    {
     "data": {
      "text/plain": [
       "full_name                     object\n",
       "dob                           object\n",
       "town                          object\n",
       "paye                          object\n",
       "salary_band                   object\n",
       "years_with_employer            int64\n",
       "months_with_employer           int64\n",
       "hours_per_week                 int64\n",
       "capital_gain                   int64\n",
       "capital_loss                   int64\n",
       "new_mortgage                  object\n",
       "sex                           object\n",
       "religion                      object\n",
       "relationship                  object\n",
       "race                          object\n",
       "native_country                object\n",
       "workclass                     object\n",
       "demographic_characteristic     int64\n",
       "dtype: object"
      ]
     },
     "execution_count": 3,
     "metadata": {},
     "output_type": "execute_result"
    }
   ],
   "source": [
    "# data types of the fields\n",
    "df_mortgage.dtypes"
   ]
  },
  {
   "cell_type": "code",
   "execution_count": 4,
   "metadata": {},
   "outputs": [
    {
     "data": {
      "text/plain": [
       "'1979-05-10'"
      ]
     },
     "execution_count": 4,
     "metadata": {},
     "output_type": "execute_result"
    }
   ],
   "source": [
    "df_mortgage['dob'].iloc[0]"
   ]
  },
  {
   "cell_type": "markdown",
   "metadata": {},
   "source": [
    "`dob` column is read up as string. Let's convert it to `datetime`"
   ]
  },
  {
   "cell_type": "code",
   "execution_count": 5,
   "metadata": {},
   "outputs": [],
   "source": [
    "df_mortgage['dob'] = pd.to_datetime(df_mortgage['dob'], yearfirst=True)"
   ]
  },
  {
   "cell_type": "markdown",
   "metadata": {},
   "source": [
    "### 1.2 Description of numeric columns <a id='1_2'></a>"
   ]
  },
  {
   "cell_type": "code",
   "execution_count": 6,
   "metadata": {},
   "outputs": [
    {
     "data": {
      "text/html": [
       "<div>\n",
       "<style scoped>\n",
       "    .dataframe tbody tr th:only-of-type {\n",
       "        vertical-align: middle;\n",
       "    }\n",
       "\n",
       "    .dataframe tbody tr th {\n",
       "        vertical-align: top;\n",
       "    }\n",
       "\n",
       "    .dataframe thead th {\n",
       "        text-align: right;\n",
       "    }\n",
       "</style>\n",
       "<table border=\"1\" class=\"dataframe\">\n",
       "  <thead>\n",
       "    <tr style=\"text-align: right;\">\n",
       "      <th></th>\n",
       "      <th>years_with_employer</th>\n",
       "      <th>months_with_employer</th>\n",
       "      <th>hours_per_week</th>\n",
       "      <th>capital_gain</th>\n",
       "      <th>capital_loss</th>\n",
       "      <th>demographic_characteristic</th>\n",
       "    </tr>\n",
       "  </thead>\n",
       "  <tbody>\n",
       "    <tr>\n",
       "      <th>count</th>\n",
       "      <td>32561.000000</td>\n",
       "      <td>32561.000000</td>\n",
       "      <td>32561.000000</td>\n",
       "      <td>32561.000000</td>\n",
       "      <td>32561.000000</td>\n",
       "      <td>3.256100e+04</td>\n",
       "    </tr>\n",
       "    <tr>\n",
       "      <th>mean</th>\n",
       "      <td>5.170326</td>\n",
       "      <td>5.519425</td>\n",
       "      <td>40.437456</td>\n",
       "      <td>1077.648844</td>\n",
       "      <td>87.303830</td>\n",
       "      <td>1.897784e+05</td>\n",
       "    </tr>\n",
       "    <tr>\n",
       "      <th>std</th>\n",
       "      <td>6.437202</td>\n",
       "      <td>3.466831</td>\n",
       "      <td>12.347429</td>\n",
       "      <td>7385.292085</td>\n",
       "      <td>402.960219</td>\n",
       "      <td>1.055500e+05</td>\n",
       "    </tr>\n",
       "    <tr>\n",
       "      <th>min</th>\n",
       "      <td>0.000000</td>\n",
       "      <td>0.000000</td>\n",
       "      <td>1.000000</td>\n",
       "      <td>0.000000</td>\n",
       "      <td>0.000000</td>\n",
       "      <td>1.228500e+04</td>\n",
       "    </tr>\n",
       "    <tr>\n",
       "      <th>25%</th>\n",
       "      <td>1.000000</td>\n",
       "      <td>2.000000</td>\n",
       "      <td>40.000000</td>\n",
       "      <td>0.000000</td>\n",
       "      <td>0.000000</td>\n",
       "      <td>1.178270e+05</td>\n",
       "    </tr>\n",
       "    <tr>\n",
       "      <th>50%</th>\n",
       "      <td>3.000000</td>\n",
       "      <td>6.000000</td>\n",
       "      <td>40.000000</td>\n",
       "      <td>0.000000</td>\n",
       "      <td>0.000000</td>\n",
       "      <td>1.783560e+05</td>\n",
       "    </tr>\n",
       "    <tr>\n",
       "      <th>75%</th>\n",
       "      <td>7.000000</td>\n",
       "      <td>9.000000</td>\n",
       "      <td>45.000000</td>\n",
       "      <td>0.000000</td>\n",
       "      <td>0.000000</td>\n",
       "      <td>2.370510e+05</td>\n",
       "    </tr>\n",
       "    <tr>\n",
       "      <th>max</th>\n",
       "      <td>57.000000</td>\n",
       "      <td>11.000000</td>\n",
       "      <td>99.000000</td>\n",
       "      <td>99999.000000</td>\n",
       "      <td>4356.000000</td>\n",
       "      <td>1.484705e+06</td>\n",
       "    </tr>\n",
       "  </tbody>\n",
       "</table>\n",
       "</div>"
      ],
      "text/plain": [
       "       years_with_employer  months_with_employer  hours_per_week  \\\n",
       "count         32561.000000          32561.000000    32561.000000   \n",
       "mean              5.170326              5.519425       40.437456   \n",
       "std               6.437202              3.466831       12.347429   \n",
       "min               0.000000              0.000000        1.000000   \n",
       "25%               1.000000              2.000000       40.000000   \n",
       "50%               3.000000              6.000000       40.000000   \n",
       "75%               7.000000              9.000000       45.000000   \n",
       "max              57.000000             11.000000       99.000000   \n",
       "\n",
       "       capital_gain  capital_loss  demographic_characteristic  \n",
       "count  32561.000000  32561.000000                3.256100e+04  \n",
       "mean    1077.648844     87.303830                1.897784e+05  \n",
       "std     7385.292085    402.960219                1.055500e+05  \n",
       "min        0.000000      0.000000                1.228500e+04  \n",
       "25%        0.000000      0.000000                1.178270e+05  \n",
       "50%        0.000000      0.000000                1.783560e+05  \n",
       "75%        0.000000      0.000000                2.370510e+05  \n",
       "max    99999.000000   4356.000000                1.484705e+06  "
      ]
     },
     "execution_count": 6,
     "metadata": {},
     "output_type": "execute_result"
    }
   ],
   "source": [
    "# Descriptive stats of numeric fields\n",
    "df_mortgage.describe()"
   ]
  },
  {
   "cell_type": "code",
   "execution_count": 20,
   "metadata": {},
   "outputs": [
    {
     "data": {
      "image/png": "[encoded data removed]",
      "text/plain": [
       "<Figure size 504x432 with 1 Axes>"
      ]
     },
     "metadata": {
      "needs_background": "light"
     },
     "output_type": "display_data"
    }
   ],
   "source": [
    "# Univariate plots for the above\n",
    "f, ax = plt.subplots(figsize=(7, 6))\n",
    "ax.set_xscale(\"log\")\n",
    "\n",
    "sns.boxplot(data=df_mortgage.select_dtypes(include='number').melt(var_name='column'),\n",
    "            x=\"value\",\n",
    "            y=\"column\", \n",
    "            whis=1,\n",
    "            width=.6,\n",
    "            palette=cmap.colors);\n",
    "\n",
    "sns.stripplot(data=df_mortgage.select_dtypes(include='number').melt(var_name='column'),\n",
    "              x=\"value\",\n",
    "              y=\"column\",\n",
    "              size=1, \n",
    "              palette=cmap.colors,\n",
    "              alpha=0.5,\n",
    "              linewidth=0)\n",
    "\n",
    "\n",
    "ax.xaxis.grid(True)\n",
    "ax.set(ylabel=\"\")\n",
    "ax.set_xlim(left=0.1)\n",
    "sns.despine(trim=True, left=True)\n",
    "ax.yaxis.set_tick_params(left = False)"
   ]
  },
  {
   "cell_type": "markdown",
   "metadata": {},
   "source": [
    "<a id='1_3'></a>\n",
    "### 1.3 Description of non-numeric columns"
   ]
  },
  {
   "cell_type": "code",
   "execution_count": 40,
   "metadata": {},
   "outputs": [
    {
     "data": {
      "text/html": [
       "<div>\n",
       "<style scoped>\n",
       "    .dataframe tbody tr th:only-of-type {\n",
       "        vertical-align: middle;\n",
       "    }\n",
       "\n",
       "    .dataframe tbody tr th {\n",
       "        vertical-align: top;\n",
       "    }\n",
       "\n",
       "    .dataframe thead th {\n",
       "        text-align: right;\n",
       "    }\n",
       "</style>\n",
       "<table border=\"1\" class=\"dataframe\">\n",
       "  <thead>\n",
       "    <tr style=\"text-align: right;\">\n",
       "      <th></th>\n",
       "      <th>Column</th>\n",
       "      <th>No of unique values</th>\n",
       "    </tr>\n",
       "  </thead>\n",
       "  <tbody>\n",
       "    <tr>\n",
       "      <th>0</th>\n",
       "      <td>full_name</td>\n",
       "      <td>31169</td>\n",
       "    </tr>\n",
       "    <tr>\n",
       "      <th>1</th>\n",
       "      <td>dob</td>\n",
       "      <td>15164</td>\n",
       "    </tr>\n",
       "    <tr>\n",
       "      <th>2</th>\n",
       "      <td>town</td>\n",
       "      <td>2649</td>\n",
       "    </tr>\n",
       "    <tr>\n",
       "      <th>3</th>\n",
       "      <td>paye</td>\n",
       "      <td>26475</td>\n",
       "    </tr>\n",
       "    <tr>\n",
       "      <th>4</th>\n",
       "      <td>salary_band</td>\n",
       "      <td>18326</td>\n",
       "    </tr>\n",
       "    <tr>\n",
       "      <th>5</th>\n",
       "      <td>new_mortgage</td>\n",
       "      <td>1</td>\n",
       "    </tr>\n",
       "    <tr>\n",
       "      <th>6</th>\n",
       "      <td>sex</td>\n",
       "      <td>2</td>\n",
       "    </tr>\n",
       "    <tr>\n",
       "      <th>7</th>\n",
       "      <td>religion</td>\n",
       "      <td>8</td>\n",
       "    </tr>\n",
       "    <tr>\n",
       "      <th>8</th>\n",
       "      <td>relationship</td>\n",
       "      <td>6</td>\n",
       "    </tr>\n",
       "    <tr>\n",
       "      <th>9</th>\n",
       "      <td>race</td>\n",
       "      <td>5</td>\n",
       "    </tr>\n",
       "    <tr>\n",
       "      <th>10</th>\n",
       "      <td>native_country</td>\n",
       "      <td>40</td>\n",
       "    </tr>\n",
       "    <tr>\n",
       "      <th>11</th>\n",
       "      <td>workclass</td>\n",
       "      <td>9</td>\n",
       "    </tr>\n",
       "  </tbody>\n",
       "</table>\n",
       "</div>"
      ],
      "text/plain": [
       "            Column  No of unique values\n",
       "0        full_name                31169\n",
       "1              dob                15164\n",
       "2             town                 2649\n",
       "3             paye                26475\n",
       "4      salary_band                18326\n",
       "5     new_mortgage                    1\n",
       "6              sex                    2\n",
       "7         religion                    8\n",
       "8     relationship                    6\n",
       "9             race                    5\n",
       "10  native_country                   40\n",
       "11       workclass                    9"
      ]
     },
     "execution_count": 40,
     "metadata": {},
     "output_type": "execute_result"
    }
   ],
   "source": [
    "# get number of unique values the categorical columns\n",
    "mortgage_cat_cols_cardinality = []\n",
    "\n",
    "for cat_col in df_mortgage.select_dtypes(include='object').columns:\n",
    "    mortgage_cat_cols_cardinality.append([cat_col, len(df_mortgage[cat_col].unique())])\n",
    "    \n",
    "df_mortgage_cat_cols_cardinality = pd.DataFrame(mortgage_cat_cols_cardinality,\n",
    "                                               columns=['Column', 'No of unique values'])\n",
    "\n",
    "df_mortgage_cat_cols_cardinality"
   ]
  },
  {
   "cell_type": "code",
   "execution_count": 34,
   "metadata": {},
   "outputs": [
    {
     "data": {
      "text/plain": [
       "<AxesSubplot:xlabel='No of unique values', ylabel='Column'>"
      ]
     },
     "execution_count": 34,
     "metadata": {},
     "output_type": "execute_result"
    },
    {
     "data": {
      "image/png": "[encoded data removed]",
      "text/plain": [
       "<Figure size 504x432 with 1 Axes>"
      ]
     },
     "metadata": {
      "needs_background": "light"
     },
     "output_type": "display_data"
    }
   ],
   "source": [
    "f, ax = plt.subplots(figsize=(7, 6))\n",
    "ax.set_xscale(\"log\")\n",
    "\n",
    "sns.barplot(data=df_mortgage_cat_cols_cardinality,\n",
    "            y='Column',\n",
    "            x='No of unique values', \n",
    "            orient=\"h\",\n",
    "            color=cmap.colors[1],\n",
    "            ax=ax)"
   ]
  },
  {
   "cell_type": "code",
   "execution_count": 30,
   "metadata": {},
   "outputs": [
    {
     "data": {
      "image/png": "[encoded data removed]",
      "text/plain": [
       "<Figure size 360x360 with 1 Axes>"
      ]
     },
     "metadata": {
      "needs_background": "light"
     },
     "output_type": "display_data"
    }
   ],
   "source": [
    "sns.displot(df_mortgage['dob'].dt.year, bins=10, color=cmap.colors[1]);"
   ]
  },
  {
   "cell_type": "markdown",
   "metadata": {},
   "source": [
    "<a id='1_4'></a>\n",
    "### 1.4 Missing values"
   ]
  },
  {
   "cell_type": "code",
   "execution_count": 58,
   "metadata": {},
   "outputs": [
    {
     "data": {
      "text/plain": [
       "full_name                     False\n",
       "dob                           False\n",
       "town                          False\n",
       "paye                          False\n",
       "salary_band                   False\n",
       "years_with_employer           False\n",
       "months_with_employer          False\n",
       "hours_per_week                False\n",
       "capital_gain                  False\n",
       "capital_loss                  False\n",
       "new_mortgage                  False\n",
       "sex                           False\n",
       "religion                      False\n",
       "relationship                  False\n",
       "race                          False\n",
       "native_country                False\n",
       "workclass                     False\n",
       "demographic_characteristic    False\n",
       "dtype: bool"
      ]
     },
     "execution_count": 58,
     "metadata": {},
     "output_type": "execute_result"
    }
   ],
   "source": [
    "df_mortgage.isna().any() #.any()"
   ]
  },
  {
   "cell_type": "code",
   "execution_count": 56,
   "metadata": {},
   "outputs": [
    {
     "data": {
      "text/plain": [
       "<AxesSubplot:>"
      ]
     },
     "execution_count": 56,
     "metadata": {},
     "output_type": "execute_result"
    },
    {
     "data": {
      "image/png": "[encoded data removed]",
      "text/plain": [
       "<Figure size 504x432 with 2 Axes>"
      ]
     },
     "metadata": {
      "needs_background": "light"
     },
     "output_type": "display_data"
    }
   ],
   "source": [
    "f, ax = plt.subplots(figsize=(7, 6))\n",
    "sns.heatmap(df_mortgage.isna().transpose(),\n",
    "            cmap=\"YlGnBu\",\n",
    "            cbar_kws={'label': 'Missing Data'},\n",
    "            vmin=0,\n",
    "            vmax=1)"
   ]
  },
  {
   "cell_type": "markdown",
   "metadata": {},
   "source": [
    "## 2. Campaign dataset <a id='2'></a>"
   ]
  },
  {
   "cell_type": "code",
   "execution_count": 36,
   "metadata": {},
   "outputs": [
    {
     "name": "stdout",
     "output_type": "stream",
     "text": [
      "Number of rows: 32060\n",
      "Number of columns: 16\n"
     ]
    },
    {
     "data": {
      "text/html": [
       "<div>\n",
       "<style scoped>\n",
       "    .dataframe tbody tr th:only-of-type {\n",
       "        vertical-align: middle;\n",
       "    }\n",
       "\n",
       "    .dataframe tbody tr th {\n",
       "        vertical-align: top;\n",
       "    }\n",
       "\n",
       "    .dataframe thead th {\n",
       "        text-align: right;\n",
       "    }\n",
       "</style>\n",
       "<table border=\"1\" class=\"dataframe\">\n",
       "  <thead>\n",
       "    <tr style=\"text-align: right;\">\n",
       "      <th></th>\n",
       "      <th>participant_id</th>\n",
       "      <th>name_title</th>\n",
       "      <th>first_name</th>\n",
       "      <th>last_name</th>\n",
       "      <th>age</th>\n",
       "      <th>postcode</th>\n",
       "      <th>marital_status</th>\n",
       "      <th>education</th>\n",
       "      <th>job_title</th>\n",
       "      <th>occupation_level</th>\n",
       "      <th>education_num</th>\n",
       "      <th>familiarity_FB</th>\n",
       "      <th>view_FB</th>\n",
       "      <th>interested_insurance</th>\n",
       "      <th>company_email</th>\n",
       "      <th>created_account</th>\n",
       "    </tr>\n",
       "  </thead>\n",
       "  <tbody>\n",
       "    <tr>\n",
       "      <th>0</th>\n",
       "      <td>8.997000e+12</td>\n",
       "      <td>Mr.</td>\n",
       "      <td>Dale</td>\n",
       "      <td>Coles</td>\n",
       "      <td>39</td>\n",
       "      <td>EH4 9FL</td>\n",
       "      <td>Never-married</td>\n",
       "      <td>Bachelors</td>\n",
       "      <td>Furniture conservator/restorer</td>\n",
       "      <td>1</td>\n",
       "      <td>17</td>\n",
       "      <td>7</td>\n",
       "      <td>9</td>\n",
       "      <td>0</td>\n",
       "      <td>jrhodes@jones.com</td>\n",
       "      <td>No</td>\n",
       "    </tr>\n",
       "    <tr>\n",
       "      <th>1</th>\n",
       "      <td>2.764970e+12</td>\n",
       "      <td>NaN</td>\n",
       "      <td>Joel</td>\n",
       "      <td>Allen</td>\n",
       "      <td>50</td>\n",
       "      <td>LS5H 0JG</td>\n",
       "      <td>Married-civ-spouse</td>\n",
       "      <td>Bachelors</td>\n",
       "      <td>Administrator, sports</td>\n",
       "      <td>4</td>\n",
       "      <td>17</td>\n",
       "      <td>9</td>\n",
       "      <td>6</td>\n",
       "      <td>1</td>\n",
       "      <td>william32@carey.com</td>\n",
       "      <td>No</td>\n",
       "    </tr>\n",
       "    <tr>\n",
       "      <th>2</th>\n",
       "      <td>8.454880e+12</td>\n",
       "      <td>Mr.</td>\n",
       "      <td>Craig</td>\n",
       "      <td>Davis</td>\n",
       "      <td>38</td>\n",
       "      <td>EH8W 2QJ</td>\n",
       "      <td>Divorced</td>\n",
       "      <td>HS-grad</td>\n",
       "      <td>Armed forces training and education officer</td>\n",
       "      <td>12</td>\n",
       "      <td>12</td>\n",
       "      <td>5</td>\n",
       "      <td>4</td>\n",
       "      <td>1</td>\n",
       "      <td>smithvanessa@coles.org</td>\n",
       "      <td>No</td>\n",
       "    </tr>\n",
       "    <tr>\n",
       "      <th>3</th>\n",
       "      <td>5.781320e+12</td>\n",
       "      <td>Mr.</td>\n",
       "      <td>Brandon</td>\n",
       "      <td>Thornton</td>\n",
       "      <td>53</td>\n",
       "      <td>EH2 5UE</td>\n",
       "      <td>Married-civ-spouse</td>\n",
       "      <td>11th</td>\n",
       "      <td>Facilities assistant</td>\n",
       "      <td>1</td>\n",
       "      <td>9</td>\n",
       "      <td>9</td>\n",
       "      <td>2</td>\n",
       "      <td>0</td>\n",
       "      <td>sbarrett@hart.biz</td>\n",
       "      <td>No</td>\n",
       "    </tr>\n",
       "    <tr>\n",
       "      <th>4</th>\n",
       "      <td>8.687490e+12</td>\n",
       "      <td>Miss</td>\n",
       "      <td>Brett</td>\n",
       "      <td>Fletcher</td>\n",
       "      <td>28</td>\n",
       "      <td>SN19 0PU</td>\n",
       "      <td>Married-civ-spouse</td>\n",
       "      <td>Bachelors</td>\n",
       "      <td>Information systems manager</td>\n",
       "      <td>12</td>\n",
       "      <td>17</td>\n",
       "      <td>8</td>\n",
       "      <td>9</td>\n",
       "      <td>1</td>\n",
       "      <td>lparkinson@butler.com</td>\n",
       "      <td>No</td>\n",
       "    </tr>\n",
       "  </tbody>\n",
       "</table>\n",
       "</div>"
      ],
      "text/plain": [
       "   participant_id name_title first_name last_name  age  postcode  \\\n",
       "0    8.997000e+12        Mr.       Dale     Coles   39   EH4 9FL   \n",
       "1    2.764970e+12        NaN       Joel     Allen   50  LS5H 0JG   \n",
       "2    8.454880e+12        Mr.      Craig     Davis   38  EH8W 2QJ   \n",
       "3    5.781320e+12        Mr.    Brandon  Thornton   53   EH2 5UE   \n",
       "4    8.687490e+12       Miss      Brett  Fletcher   28  SN19 0PU   \n",
       "\n",
       "       marital_status  education                                    job_title  \\\n",
       "0       Never-married  Bachelors               Furniture conservator/restorer   \n",
       "1  Married-civ-spouse  Bachelors                        Administrator, sports   \n",
       "2            Divorced    HS-grad  Armed forces training and education officer   \n",
       "3  Married-civ-spouse       11th                         Facilities assistant   \n",
       "4  Married-civ-spouse  Bachelors                  Information systems manager   \n",
       "\n",
       "   occupation_level  education_num  familiarity_FB  view_FB  \\\n",
       "0                 1             17               7        9   \n",
       "1                 4             17               9        6   \n",
       "2                12             12               5        4   \n",
       "3                 1              9               9        2   \n",
       "4                12             17               8        9   \n",
       "\n",
       "   interested_insurance           company_email created_account  \n",
       "0                     0       jrhodes@jones.com              No  \n",
       "1                     1     william32@carey.com              No  \n",
       "2                     1  smithvanessa@coles.org              No  \n",
       "3                     0       sbarrett@hart.biz              No  \n",
       "4                     1   lparkinson@butler.com              No  "
      ]
     },
     "execution_count": 36,
     "metadata": {},
     "output_type": "execute_result"
    }
   ],
   "source": [
    "df_campaign = pd.read_csv('../data/0_raw/Campaign.csv')\n",
    "print(f'Number of rows: {len(df_campaign)}\\nNumber of columns: {len(df_campaign.columns)}')\n",
    "df_campaign.head()"
   ]
  },
  {
   "cell_type": "markdown",
   "metadata": {},
   "source": [
    "<a id='2_1'></a>\n",
    "### 2.1 Data types of the columns"
   ]
  },
  {
   "cell_type": "code",
   "execution_count": 37,
   "metadata": {},
   "outputs": [
    {
     "data": {
      "text/plain": [
       "participant_id          float64\n",
       "name_title               object\n",
       "first_name               object\n",
       "last_name                object\n",
       "age                       int64\n",
       "postcode                 object\n",
       "marital_status           object\n",
       "education                object\n",
       "job_title                object\n",
       "occupation_level          int64\n",
       "education_num             int64\n",
       "familiarity_FB            int64\n",
       "view_FB                   int64\n",
       "interested_insurance      int64\n",
       "company_email            object\n",
       "created_account          object\n",
       "dtype: object"
      ]
     },
     "execution_count": 37,
     "metadata": {},
     "output_type": "execute_result"
    }
   ],
   "source": [
    "# data types of the fields\n",
    "df_campaign.dtypes"
   ]
  },
  {
   "cell_type": "markdown",
   "metadata": {},
   "source": [
    "<a id='2_2'></a>\n",
    "### 2.2 Descriptive stats of numeric fields"
   ]
  },
  {
   "cell_type": "code",
   "execution_count": 42,
   "metadata": {},
   "outputs": [
    {
     "data": {
      "text/html": [
       "<div>\n",
       "<style scoped>\n",
       "    .dataframe tbody tr th:only-of-type {\n",
       "        vertical-align: middle;\n",
       "    }\n",
       "\n",
       "    .dataframe tbody tr th {\n",
       "        vertical-align: top;\n",
       "    }\n",
       "\n",
       "    .dataframe thead th {\n",
       "        text-align: right;\n",
       "    }\n",
       "</style>\n",
       "<table border=\"1\" class=\"dataframe\">\n",
       "  <thead>\n",
       "    <tr style=\"text-align: right;\">\n",
       "      <th></th>\n",
       "      <th>participant_id</th>\n",
       "      <th>age</th>\n",
       "      <th>occupation_level</th>\n",
       "      <th>education_num</th>\n",
       "      <th>familiarity_FB</th>\n",
       "      <th>view_FB</th>\n",
       "      <th>interested_insurance</th>\n",
       "    </tr>\n",
       "  </thead>\n",
       "  <tbody>\n",
       "    <tr>\n",
       "      <th>count</th>\n",
       "      <td>3.206000e+04</td>\n",
       "      <td>32060.000000</td>\n",
       "      <td>32060.000000</td>\n",
       "      <td>32060.000000</td>\n",
       "      <td>32060.000000</td>\n",
       "      <td>32060.000000</td>\n",
       "      <td>32060.000000</td>\n",
       "    </tr>\n",
       "    <tr>\n",
       "      <th>mean</th>\n",
       "      <td>4.973681e+12</td>\n",
       "      <td>38.564816</td>\n",
       "      <td>7.757673</td>\n",
       "      <td>13.207611</td>\n",
       "      <td>5.290331</td>\n",
       "      <td>5.170930</td>\n",
       "      <td>0.424891</td>\n",
       "    </tr>\n",
       "    <tr>\n",
       "      <th>std</th>\n",
       "      <td>2.883537e+12</td>\n",
       "      <td>13.637532</td>\n",
       "      <td>3.859709</td>\n",
       "      <td>3.353797</td>\n",
       "      <td>2.673795</td>\n",
       "      <td>2.550475</td>\n",
       "      <td>0.494334</td>\n",
       "    </tr>\n",
       "    <tr>\n",
       "      <th>min</th>\n",
       "      <td>8.859368e+07</td>\n",
       "      <td>17.000000</td>\n",
       "      <td>1.000000</td>\n",
       "      <td>1.000000</td>\n",
       "      <td>1.000000</td>\n",
       "      <td>1.000000</td>\n",
       "      <td>0.000000</td>\n",
       "    </tr>\n",
       "    <tr>\n",
       "      <th>25%</th>\n",
       "      <td>2.493678e+12</td>\n",
       "      <td>28.000000</td>\n",
       "      <td>5.000000</td>\n",
       "      <td>12.000000</td>\n",
       "      <td>3.000000</td>\n",
       "      <td>3.000000</td>\n",
       "      <td>0.000000</td>\n",
       "    </tr>\n",
       "    <tr>\n",
       "      <th>50%</th>\n",
       "      <td>4.962955e+12</td>\n",
       "      <td>37.000000</td>\n",
       "      <td>8.000000</td>\n",
       "      <td>13.000000</td>\n",
       "      <td>5.000000</td>\n",
       "      <td>5.000000</td>\n",
       "      <td>0.000000</td>\n",
       "    </tr>\n",
       "    <tr>\n",
       "      <th>75%</th>\n",
       "      <td>7.470135e+12</td>\n",
       "      <td>48.000000</td>\n",
       "      <td>10.000000</td>\n",
       "      <td>16.000000</td>\n",
       "      <td>8.000000</td>\n",
       "      <td>7.000000</td>\n",
       "      <td>1.000000</td>\n",
       "    </tr>\n",
       "    <tr>\n",
       "      <th>max</th>\n",
       "      <td>9.999820e+12</td>\n",
       "      <td>90.000000</td>\n",
       "      <td>20.000000</td>\n",
       "      <td>21.000000</td>\n",
       "      <td>10.000000</td>\n",
       "      <td>10.000000</td>\n",
       "      <td>1.000000</td>\n",
       "    </tr>\n",
       "  </tbody>\n",
       "</table>\n",
       "</div>"
      ],
      "text/plain": [
       "       participant_id           age  occupation_level  education_num  \\\n",
       "count    3.206000e+04  32060.000000      32060.000000   32060.000000   \n",
       "mean     4.973681e+12     38.564816          7.757673      13.207611   \n",
       "std      2.883537e+12     13.637532          3.859709       3.353797   \n",
       "min      8.859368e+07     17.000000          1.000000       1.000000   \n",
       "25%      2.493678e+12     28.000000          5.000000      12.000000   \n",
       "50%      4.962955e+12     37.000000          8.000000      13.000000   \n",
       "75%      7.470135e+12     48.000000         10.000000      16.000000   \n",
       "max      9.999820e+12     90.000000         20.000000      21.000000   \n",
       "\n",
       "       familiarity_FB       view_FB  interested_insurance  \n",
       "count    32060.000000  32060.000000          32060.000000  \n",
       "mean         5.290331      5.170930              0.424891  \n",
       "std          2.673795      2.550475              0.494334  \n",
       "min          1.000000      1.000000              0.000000  \n",
       "25%          3.000000      3.000000              0.000000  \n",
       "50%          5.000000      5.000000              0.000000  \n",
       "75%          8.000000      7.000000              1.000000  \n",
       "max         10.000000     10.000000              1.000000  "
      ]
     },
     "execution_count": 42,
     "metadata": {},
     "output_type": "execute_result"
    }
   ],
   "source": [
    "# Descriptive stats of numeric fields\n",
    "df_campaign.describe()"
   ]
  },
  {
   "cell_type": "code",
   "execution_count": 45,
   "metadata": {},
   "outputs": [
    {
     "data": {
      "image/png": "[encoded data removed]",
      "text/plain": [
       "<Figure size 504x432 with 1 Axes>"
      ]
     },
     "metadata": {
      "needs_background": "light"
     },
     "output_type": "display_data"
    }
   ],
   "source": [
    "# Univariate plots for the above\n",
    "f, ax = plt.subplots(figsize=(7, 6))\n",
    "ax.set_xscale(\"log\")\n",
    "\n",
    "sns.boxplot(data=df_campaign.drop(columns='participant_id') \\\n",
    "                            .select_dtypes(include='number') \\\n",
    "                            .melt(var_name='column'),\n",
    "            x=\"value\",\n",
    "            y=\"column\", \n",
    "            whis=1,\n",
    "            width=.6,\n",
    "            palette=cmap.colors);\n",
    "\n",
    "sns.stripplot(data=df_campaign.drop(columns='participant_id') \\\n",
    "                              .select_dtypes(include='number') \\\n",
    "                              .melt(var_name='column'),\n",
    "              x=\"value\",\n",
    "              y=\"column\",\n",
    "              size=1, \n",
    "              palette=cmap.colors,\n",
    "              alpha=0.5,\n",
    "              linewidth=0)\n",
    "\n",
    "\n",
    "ax.xaxis.grid(True)\n",
    "ax.set(ylabel=\"\")\n",
    "ax.set_xlim(left=0.1)\n",
    "sns.despine(trim=True, left=True)\n",
    "ax.yaxis.set_tick_params(left = False)"
   ]
  },
  {
   "cell_type": "markdown",
   "metadata": {},
   "source": [
    "<a id='2_3'></a>\n",
    "### 2.3 describe categorical columns"
   ]
  },
  {
   "cell_type": "code",
   "execution_count": 46,
   "metadata": {},
   "outputs": [
    {
     "data": {
      "text/html": [
       "<div>\n",
       "<style scoped>\n",
       "    .dataframe tbody tr th:only-of-type {\n",
       "        vertical-align: middle;\n",
       "    }\n",
       "\n",
       "    .dataframe tbody tr th {\n",
       "        vertical-align: top;\n",
       "    }\n",
       "\n",
       "    .dataframe thead th {\n",
       "        text-align: right;\n",
       "    }\n",
       "</style>\n",
       "<table border=\"1\" class=\"dataframe\">\n",
       "  <thead>\n",
       "    <tr style=\"text-align: right;\">\n",
       "      <th></th>\n",
       "      <th>Column</th>\n",
       "      <th>No of unique values</th>\n",
       "    </tr>\n",
       "  </thead>\n",
       "  <tbody>\n",
       "    <tr>\n",
       "      <th>0</th>\n",
       "      <td>name_title</td>\n",
       "      <td>6</td>\n",
       "    </tr>\n",
       "    <tr>\n",
       "      <th>1</th>\n",
       "      <td>first_name</td>\n",
       "      <td>182</td>\n",
       "    </tr>\n",
       "    <tr>\n",
       "      <th>2</th>\n",
       "      <td>last_name</td>\n",
       "      <td>500</td>\n",
       "    </tr>\n",
       "    <tr>\n",
       "      <th>3</th>\n",
       "      <td>postcode</td>\n",
       "      <td>31398</td>\n",
       "    </tr>\n",
       "    <tr>\n",
       "      <th>4</th>\n",
       "      <td>marital_status</td>\n",
       "      <td>7</td>\n",
       "    </tr>\n",
       "    <tr>\n",
       "      <th>5</th>\n",
       "      <td>education</td>\n",
       "      <td>16</td>\n",
       "    </tr>\n",
       "    <tr>\n",
       "      <th>6</th>\n",
       "      <td>job_title</td>\n",
       "      <td>691</td>\n",
       "    </tr>\n",
       "    <tr>\n",
       "      <th>7</th>\n",
       "      <td>company_email</td>\n",
       "      <td>32052</td>\n",
       "    </tr>\n",
       "    <tr>\n",
       "      <th>8</th>\n",
       "      <td>created_account</td>\n",
       "      <td>3</td>\n",
       "    </tr>\n",
       "  </tbody>\n",
       "</table>\n",
       "</div>"
      ],
      "text/plain": [
       "            Column  No of unique values\n",
       "0       name_title                    6\n",
       "1       first_name                  182\n",
       "2        last_name                  500\n",
       "3         postcode                31398\n",
       "4   marital_status                    7\n",
       "5        education                   16\n",
       "6        job_title                  691\n",
       "7    company_email                32052\n",
       "8  created_account                    3"
      ]
     },
     "execution_count": 46,
     "metadata": {},
     "output_type": "execute_result"
    }
   ],
   "source": [
    "# get number of unique values the categorical columns\n",
    "campaign_cat_cols_cardinality = []\n",
    "\n",
    "for cat_col in df_campaign.select_dtypes(include='object').columns:\n",
    "    campaign_cat_cols_cardinality.append([cat_col, len(df_campaign[cat_col].unique())])\n",
    "    \n",
    "df_campaign_cat_cols_cardinality = pd.DataFrame(campaign_cat_cols_cardinality,\n",
    "                                               columns=['Column', 'No of unique values'])\n",
    "\n",
    "df_campaign_cat_cols_cardinality"
   ]
  },
  {
   "cell_type": "code",
   "execution_count": 47,
   "metadata": {},
   "outputs": [
    {
     "data": {
      "text/plain": [
       "<AxesSubplot:xlabel='No of unique values', ylabel='Column'>"
      ]
     },
     "execution_count": 47,
     "metadata": {},
     "output_type": "execute_result"
    },
    {
     "data": {
      "image/png": "[encoded data removed]",
      "text/plain": [
       "<Figure size 504x432 with 1 Axes>"
      ]
     },
     "metadata": {
      "needs_background": "light"
     },
     "output_type": "display_data"
    }
   ],
   "source": [
    "f, ax = plt.subplots(figsize=(7, 6))\n",
    "ax.set_xscale(\"log\")\n",
    "\n",
    "sns.barplot(data=df_campaign_cat_cols_cardinality,\n",
    "            y='Column',\n",
    "            x='No of unique values', \n",
    "            orient=\"h\",\n",
    "            color=cmap.colors[1],\n",
    "            ax=ax)"
   ]
  },
  {
   "cell_type": "markdown",
   "metadata": {},
   "source": [
    "<a id='2_4'></a>\n",
    "### 2.4 missing values"
   ]
  },
  {
   "cell_type": "code",
   "execution_count": 78,
   "metadata": {},
   "outputs": [
    {
     "data": {
      "text/plain": [
       "participant_id              0\n",
       "name_title              12201\n",
       "first_name                  0\n",
       "last_name                   0\n",
       "age                         0\n",
       "postcode                    0\n",
       "marital_status              0\n",
       "education                   0\n",
       "job_title                   0\n",
       "occupation_level            0\n",
       "education_num               0\n",
       "familiarity_FB              0\n",
       "view_FB                     0\n",
       "interested_insurance        0\n",
       "company_email               0\n",
       "created_account         29033\n",
       "dtype: int64"
      ]
     },
     "execution_count": 78,
     "metadata": {},
     "output_type": "execute_result"
    }
   ],
   "source": [
    "df_campaign.isna().sum() #.any()"
   ]
  },
  {
   "cell_type": "code",
   "execution_count": 76,
   "metadata": {},
   "outputs": [
    {
     "data": {
      "text/plain": [
       "<AxesSubplot:>"
      ]
     },
     "execution_count": 76,
     "metadata": {},
     "output_type": "execute_result"
    },
    {
     "data": {
      "image/png": "[encoded data removed]",
      "text/plain": [
       "<Figure size 504x432 with 2 Axes>"
      ]
     },
     "metadata": {
      "needs_background": "light"
     },
     "output_type": "display_data"
    }
   ],
   "source": [
    "f, ax = plt.subplots(figsize=(7, 6))\n",
    "sns.heatmap(df_campaign.isna().transpose(),\n",
    "            cmap=cmap.colors[0:2][::-1],\n",
    "            cbar_kws={'label': 'Missing Data'},\n",
    "            vmin=0,\n",
    "            vmax=1)"
   ]
  },
  {
   "cell_type": "markdown",
   "metadata": {},
   "source": [
    "## 3. Conclusions <a id='3'></a>\n",
    "- The datasets are structured, each record represents an observation and each column represents a feature or attribute of the individual observations\n",
    "- Majority of the `created_account` column is missing value. This column would be our target variable for this project (using a __binary classification__ approach). Normally I would investigate this by reaching out to colleagues and try to understand how the data was collected and what the missing values mean. For this assessment I proceed with the assumption that this data is not available and I will drop these records."
   ]
  },
  {
   "cell_type": "code",
   "execution_count": null,
   "metadata": {},
   "outputs": [],
   "source": []
  }
 ],
 "metadata": {
  "kernelspec": {
   "display_name": "Python 3",
   "language": "python",
   "name": "python3"
  },
  "language_info": {
   "codemirror_mode": {
    "name": "ipython",
    "version": 3
   },
   "file_extension": ".py",
   "mimetype": "text/x-python",
   "name": "python",
   "nbconvert_exporter": "python",
   "pygments_lexer": "ipython3",
   "version": "3.8.2"
  }
 },
 "nbformat": 4,
 "nbformat_minor": 5
}
