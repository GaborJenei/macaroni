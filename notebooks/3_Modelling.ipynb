{
 "cells": [
  {
   "cell_type": "markdown",
   "metadata": {},
   "source": [
    "# Modelling\n",
    "\n",
    "This notebook picks up the previously cleaned and merged data, creates some new and pre-processes features, trains a binary classification model on the trainind set. Final section will evaluate the model.\n",
    "\n",
    "<a href='#1'>1. Feature Selection<a>  \n",
    "<a href='#2'>2. Feature Engineering<a>  \n",
    "<a href='#3'>3. Pre-processing<a>  \n",
    "<a href='#4'>4. Modelling<a>      \n",
    "<a href='#5'>5. Feature Importances<a>\n"
   ]
  },
  {
   "cell_type": "code",
   "execution_count": 1,
   "metadata": {},
   "outputs": [],
   "source": [
    "import pandas as pd\n",
    "import numpy as np\n",
    "\n",
    "import matplotlib.pyplot as plt\n",
    "import seaborn as sns\n",
    "\n",
    "# Modelling\n",
    "from sklearn.model_selection import train_test_split\n",
    "\n",
    "# impute\n",
    "from sklearn.impute import SimpleImputer\n",
    "\n",
    "# pre-processing\n",
    "from sklearn.preprocessing import OneHotEncoder, StandardScaler, MinMaxScaler\n",
    "from sklearn.pipeline import Pipeline, FeatureUnion\n",
    "from sklearn.compose import ColumnTransformer\n",
    "\n",
    "# SMOTE\n",
    "from imblearn.over_sampling import RandomOverSampler \n",
    "\n",
    "from sklearn.svm import SVC\n",
    "from sklearn.tree import DecisionTreeClassifier\n",
    "from sklearn.ensemble import RandomForestClassifier\n",
    "from sklearn.naive_bayes import GaussianNB\n",
    "from sklearn.linear_model import LogisticRegression\n",
    "\n",
    "from sklearn.model_selection import GridSearchCV\n",
    "\n",
    "from sklearn.metrics import confusion_matrix\n",
    "from sklearn.metrics import accuracy_score, f1_score, precision_score, ConfusionMatrixDisplay"
   ]
  },
  {
   "cell_type": "markdown",
   "metadata": {},
   "source": [
    "## 1. Feature Selection <a id='1'><a>  "
   ]
  },
  {
   "cell_type": "code",
   "execution_count": 2,
   "metadata": {},
   "outputs": [
    {
     "data": {
      "text/html": [
       "<div>\n",
       "<style scoped>\n",
       "    .dataframe tbody tr th:only-of-type {\n",
       "        vertical-align: middle;\n",
       "    }\n",
       "\n",
       "    .dataframe tbody tr th {\n",
       "        vertical-align: top;\n",
       "    }\n",
       "\n",
       "    .dataframe thead th {\n",
       "        text-align: right;\n",
       "    }\n",
       "</style>\n",
       "<table border=\"1\" class=\"dataframe\">\n",
       "  <thead>\n",
       "    <tr style=\"text-align: right;\">\n",
       "      <th></th>\n",
       "      <th>participant_id</th>\n",
       "      <th>name_title</th>\n",
       "      <th>first_name</th>\n",
       "      <th>last_name</th>\n",
       "      <th>age</th>\n",
       "      <th>postcode</th>\n",
       "      <th>marital_status</th>\n",
       "      <th>education</th>\n",
       "      <th>job_title</th>\n",
       "      <th>occupation_level</th>\n",
       "      <th>...</th>\n",
       "      <th>post_area_code</th>\n",
       "      <th>postcode_area</th>\n",
       "      <th>postcode_area_name</th>\n",
       "      <th>sal_lower</th>\n",
       "      <th>sal_upper</th>\n",
       "      <th>sal_freq</th>\n",
       "      <th>sal_currency</th>\n",
       "      <th>sal_togbp_rate</th>\n",
       "      <th>sal_toyearly_factor</th>\n",
       "      <th>sal_mid_gbp</th>\n",
       "    </tr>\n",
       "  </thead>\n",
       "  <tbody>\n",
       "    <tr>\n",
       "      <th>0</th>\n",
       "      <td>8.997000e+12</td>\n",
       "      <td>Mr.</td>\n",
       "      <td>Dale</td>\n",
       "      <td>Coles</td>\n",
       "      <td>39</td>\n",
       "      <td>EH4 9FL</td>\n",
       "      <td>Never-married</td>\n",
       "      <td>Bachelors</td>\n",
       "      <td>Furniture conservator/restorer</td>\n",
       "      <td>1</td>\n",
       "      <td>...</td>\n",
       "      <td>EH</td>\n",
       "      <td>EH</td>\n",
       "      <td>Edinburgh</td>\n",
       "      <td>18109.0</td>\n",
       "      <td>18109.0</td>\n",
       "      <td>yearly</td>\n",
       "      <td>GBP</td>\n",
       "      <td>1.0</td>\n",
       "      <td>1.0</td>\n",
       "      <td>18109.0</td>\n",
       "    </tr>\n",
       "    <tr>\n",
       "      <th>1</th>\n",
       "      <td>2.764970e+12</td>\n",
       "      <td>None</td>\n",
       "      <td>Joel</td>\n",
       "      <td>Allen</td>\n",
       "      <td>50</td>\n",
       "      <td>LS5H 0JG</td>\n",
       "      <td>Married-civ-spouse</td>\n",
       "      <td>Bachelors</td>\n",
       "      <td>Administrator, sports</td>\n",
       "      <td>4</td>\n",
       "      <td>...</td>\n",
       "      <td>LS</td>\n",
       "      <td>LS</td>\n",
       "      <td>Leeds</td>\n",
       "      <td>16945.0</td>\n",
       "      <td>16945.0</td>\n",
       "      <td>yearly</td>\n",
       "      <td>GBP</td>\n",
       "      <td>1.0</td>\n",
       "      <td>1.0</td>\n",
       "      <td>16945.0</td>\n",
       "    </tr>\n",
       "  </tbody>\n",
       "</table>\n",
       "<p>2 rows × 47 columns</p>\n",
       "</div>"
      ],
      "text/plain": [
       "   participant_id name_title first_name last_name  age  postcode  \\\n",
       "0    8.997000e+12        Mr.       Dale     Coles   39   EH4 9FL   \n",
       "1    2.764970e+12       None       Joel     Allen   50  LS5H 0JG   \n",
       "\n",
       "       marital_status  education                       job_title  \\\n",
       "0       Never-married  Bachelors  Furniture conservator/restorer   \n",
       "1  Married-civ-spouse  Bachelors           Administrator, sports   \n",
       "\n",
       "   occupation_level  ...  post_area_code  postcode_area  postcode_area_name  \\\n",
       "0                 1  ...              EH             EH           Edinburgh   \n",
       "1                 4  ...              LS             LS               Leeds   \n",
       "\n",
       "   sal_lower sal_upper sal_freq sal_currency sal_togbp_rate  \\\n",
       "0    18109.0   18109.0   yearly          GBP            1.0   \n",
       "1    16945.0   16945.0   yearly          GBP            1.0   \n",
       "\n",
       "  sal_toyearly_factor sal_mid_gbp  \n",
       "0                 1.0     18109.0  \n",
       "1                 1.0     16945.0  \n",
       "\n",
       "[2 rows x 47 columns]"
      ]
     },
     "execution_count": 2,
     "metadata": {},
     "output_type": "execute_result"
    }
   ],
   "source": [
    "df_hi = pd.read_parquet('../data/1_interim/1_merged_data.parquet')\n",
    "df_hi.head(2)"
   ]
  },
  {
   "cell_type": "markdown",
   "metadata": {},
   "source": [
    "<div class=\"alert alert-block alert-warning\">\n",
    "<b>Assumption:</b> \n",
    "The intended use of the predicitons is to pre-select mortgage customers who are likely to take out a home insurance. Considering the intended business use I assume that information from campaign table won't be available for the next campaign.   \n",
    "Bacuase information from the mortgage has practical significance, <b>I only consider features from the mortgage table.<b>\n",
    "</div>"
   ]
  },
  {
   "cell_type": "markdown",
   "metadata": {},
   "source": [
    "The columns available or can be derived from mortgage dataset are:\n",
    "- `full_name`,\n",
    "- `dob`, \n",
    "- `town`,\n",
    "- `paye`,\n",
    "- `salary_band`,\n",
    "- `years_with_employer`,\n",
    "- `months_with_employer`,\n",
    "- `hours_per_week`,\n",
    "- `capital_gain`,\n",
    "- `capital_loss`,\n",
    "- `new_mortgage`,\n",
    "- `sex`,\n",
    "- `religion`,\n",
    "- `relationship`,\n",
    "- `race`,\n",
    "- `native_country`,\n",
    "- `workclass`,\n",
    "- `demographic_characteristic`\n",
    "- `sal_mid_gbp`\n",
    "\n",
    "The target columns to predict:\n",
    "- `'created_account'`"
   ]
  },
  {
   "cell_type": "code",
   "execution_count": 3,
   "metadata": {},
   "outputs": [
    {
     "data": {
      "text/plain": [
       "Index(['participant_id', 'name_title', 'first_name', 'last_name', 'age',\n",
       "       'postcode', 'marital_status', 'education', 'job_title',\n",
       "       'occupation_level', 'education_num', 'familiarity_FB', 'view_FB',\n",
       "       'interested_insurance', 'company_email', 'created_account', 'full_name',\n",
       "       'dob', 'town', 'paye', 'salary_band', 'years_with_employer',\n",
       "       'months_with_employer', 'hours_per_week', 'capital_gain',\n",
       "       'capital_loss', 'new_mortgage', 'sex', 'religion', 'relationship',\n",
       "       'race', 'native_country', 'workclass', 'demographic_characteristic',\n",
       "       'duplicated', 'dob_yr', 'campaign_yr', 'post_area_code',\n",
       "       'postcode_area', 'postcode_area_name', 'sal_lower', 'sal_upper',\n",
       "       'sal_freq', 'sal_currency', 'sal_togbp_rate', 'sal_toyearly_factor',\n",
       "       'sal_mid_gbp'],\n",
       "      dtype='object')"
      ]
     },
     "execution_count": 3,
     "metadata": {},
     "output_type": "execute_result"
    }
   ],
   "source": [
    "# mortgage_cols = []\n",
    "df_hi.columns\n",
    "\n",
    "# df_hi['marital_status'].unique()\n",
    "# df_hi['relationship'].unique()\n",
    "# df_hi['education'].unique()\n",
    "# df_hi['job_title'].unique()\n",
    "# df_hi['workclass'].unique()"
   ]
  },
  {
   "cell_type": "markdown",
   "metadata": {},
   "source": [
    "## Features to include and pre-process\n",
    "\n",
    "`'created_account'` - target variable - binary classification\n",
    "\n",
    "`'age'` - numeric, continous (discrete)  \n",
    "`'sex'` - categorical with 2 values - as boolean 0/1  \n",
    "`'religion'` - categorical, non-ordinal one-hot encoding   \n",
    "`'relationship'` - categorical, non-ordinal one-hot encoding  \n",
    "\n",
    "`'education'` - categorical, ordinal encoded with integers  \n",
    "`'education_num'`  \n",
    "`'occupation_level'`  \n",
    "\n",
    "`'sal_mid_gbp'` - numeric, continous\n",
    "\n",
    "`'new_mortgage'` - categorical with 2 values - as boolean 0/1  \n",
    "\n",
    "`years_with_employer` + `months_with_employer` - numerical continous feature as decimal years  \n",
    "`hours_per_week`"
   ]
  },
  {
   "cell_type": "markdown",
   "metadata": {},
   "source": [
    "## 2. Feature Engineering  <a id='2'><a>  \n",
    "- Create a column representing the time spent with employer as a continous value\n",
    "- Turn target column to 1 (`Yes`) and 0 (`No`)"
   ]
  },
  {
   "cell_type": "code",
   "execution_count": 4,
   "metadata": {},
   "outputs": [
    {
     "data": {
      "text/html": [
       "<div>\n",
       "<style scoped>\n",
       "    .dataframe tbody tr th:only-of-type {\n",
       "        vertical-align: middle;\n",
       "    }\n",
       "\n",
       "    .dataframe tbody tr th {\n",
       "        vertical-align: top;\n",
       "    }\n",
       "\n",
       "    .dataframe thead th {\n",
       "        text-align: right;\n",
       "    }\n",
       "</style>\n",
       "<table border=\"1\" class=\"dataframe\">\n",
       "  <thead>\n",
       "    <tr style=\"text-align: right;\">\n",
       "      <th></th>\n",
       "      <th>time_with_employer</th>\n",
       "      <th>years_with_employer</th>\n",
       "      <th>months_with_employer</th>\n",
       "    </tr>\n",
       "  </thead>\n",
       "  <tbody>\n",
       "    <tr>\n",
       "      <th>0</th>\n",
       "      <td>20.500000</td>\n",
       "      <td>20.0</td>\n",
       "      <td>6.0</td>\n",
       "    </tr>\n",
       "    <tr>\n",
       "      <th>1</th>\n",
       "      <td>28.083333</td>\n",
       "      <td>28.0</td>\n",
       "      <td>1.0</td>\n",
       "    </tr>\n",
       "    <tr>\n",
       "      <th>2</th>\n",
       "      <td>14.416667</td>\n",
       "      <td>14.0</td>\n",
       "      <td>5.0</td>\n",
       "    </tr>\n",
       "    <tr>\n",
       "      <th>3</th>\n",
       "      <td>32.500000</td>\n",
       "      <td>32.0</td>\n",
       "      <td>6.0</td>\n",
       "    </tr>\n",
       "    <tr>\n",
       "      <th>4</th>\n",
       "      <td>3.500000</td>\n",
       "      <td>3.0</td>\n",
       "      <td>6.0</td>\n",
       "    </tr>\n",
       "  </tbody>\n",
       "</table>\n",
       "</div>"
      ],
      "text/plain": [
       "   time_with_employer  years_with_employer  months_with_employer\n",
       "0           20.500000                 20.0                   6.0\n",
       "1           28.083333                 28.0                   1.0\n",
       "2           14.416667                 14.0                   5.0\n",
       "3           32.500000                 32.0                   6.0\n",
       "4            3.500000                  3.0                   6.0"
      ]
     },
     "execution_count": 4,
     "metadata": {},
     "output_type": "execute_result"
    }
   ],
   "source": [
    "# Combine time with employer columns\n",
    "df_hi['time_with_employer'] = df_hi['years_with_employer'] + df_hi['months_with_employer']/12\n",
    "df_hi[['time_with_employer', 'years_with_employer', 'months_with_employer']].head()"
   ]
  },
  {
   "cell_type": "code",
   "execution_count": 5,
   "metadata": {},
   "outputs": [
    {
     "data": {
      "text/plain": [
       "relationship          407\n",
       "sex                   407\n",
       "religion              407\n",
       "age                     0\n",
       "education_num           0\n",
       "occupation_level        0\n",
       "time_with_employer    407\n",
       "hours_per_week        407\n",
       "created_account         0\n",
       "dtype: int64"
      ]
     },
     "execution_count": 5,
     "metadata": {},
     "output_type": "execute_result"
    }
   ],
   "source": [
    "cat_cols = ['relationship', 'sex', 'religion']\n",
    "num_cols = ['age', 'education_num', 'occupation_level','time_with_employer', 'hours_per_week']\n",
    "target_col = 'created_account'\n",
    "\n",
    "feature_cols = cat_cols + num_cols + [target_col]\n",
    "\n",
    "df_hi[feature_cols].isna().sum()"
   ]
  },
  {
   "cell_type": "code",
   "execution_count": 6,
   "metadata": {},
   "outputs": [],
   "source": [
    "# Convert target\n",
    "df_hi[target_col] = df_hi[target_col].map({'No': 0, 'Yes': 1})"
   ]
  },
  {
   "cell_type": "code",
   "execution_count": 7,
   "metadata": {},
   "outputs": [
    {
     "data": {
      "image/png": "[encoded data removed]",
      "text/plain": [
       "<Figure size 640x480 with 1 Axes>"
      ]
     },
     "metadata": {},
     "output_type": "display_data"
    }
   ],
   "source": [
    "df_hi[feature_cols].isna().sum(1).plot(kind='hist');"
   ]
  },
  {
   "cell_type": "code",
   "execution_count": 8,
   "metadata": {},
   "outputs": [
    {
     "name": "stdout",
     "output_type": "stream",
     "text": [
      "False\n"
     ]
    },
    {
     "data": {
      "text/plain": [
       "0    2367\n",
       "1     213\n",
       "Name: created_account, dtype: int64"
      ]
     },
     "execution_count": 8,
     "metadata": {},
     "output_type": "execute_result"
    }
   ],
   "source": [
    "df_hi_clean = df_hi.drop(df_hi[df_hi[feature_cols].isna().sum(1)==5].index)\n",
    "print(df_hi_clean[feature_cols].isna().any().any())\n",
    "df_hi_clean['created_account'].value_counts()"
   ]
  },
  {
   "cell_type": "code",
   "execution_count": 9,
   "metadata": {},
   "outputs": [
    {
     "data": {
      "text/plain": [
       "0    0.917442\n",
       "1    0.082558\n",
       "Name: created_account, dtype: float64"
      ]
     },
     "execution_count": 9,
     "metadata": {},
     "output_type": "execute_result"
    }
   ],
   "source": [
    "df_hi_clean['created_account'].value_counts(normalize=True)"
   ]
  },
  {
   "cell_type": "markdown",
   "metadata": {},
   "source": [
    "## 3. Pre-processing <a id='3'><a>  "
   ]
  },
  {
   "cell_type": "markdown",
   "metadata": {},
   "source": [
    "## Train-test split\n",
    "This has to be done before fitting any predictors to avoid data-leakage"
   ]
  },
  {
   "cell_type": "code",
   "execution_count": 10,
   "metadata": {},
   "outputs": [
    {
     "data": {
      "text/plain": [
       "0    0.917829\n",
       "1    0.082171\n",
       "Name: created_account, dtype: float64"
      ]
     },
     "execution_count": 10,
     "metadata": {},
     "output_type": "execute_result"
    }
   ],
   "source": [
    "# Split features and target column\n",
    "X = df_hi_clean[feature_cols[:-1]]\n",
    "y = df_hi_clean[feature_cols[-1]]\n",
    "\n",
    "# Train test split\n",
    "X_train_nos, X_test, y_train_nos, y_test = train_test_split(X, y, random_state=42)\n",
    "\n",
    "y_train_nos.value_counts(normalize=True)"
   ]
  },
  {
   "cell_type": "markdown",
   "metadata": {},
   "source": [
    "<div class=\"alert alert-block alert-warning\">\n",
    "<b>Note:</b> \n",
    "The target classes are unbalanced; 92% did not take out a home insurance, whilst only 8% took it.<br>\n",
    "<b> For this exercise I'll try random oversampling and no oversampling\n",
    "</div>"
   ]
  },
  {
   "cell_type": "code",
   "execution_count": 11,
   "metadata": {},
   "outputs": [
    {
     "data": {
      "text/plain": [
       "0    0.5\n",
       "1    0.5\n",
       "Name: created_account, dtype: float64"
      ]
     },
     "execution_count": 11,
     "metadata": {},
     "output_type": "execute_result"
    }
   ],
   "source": [
    "# Use random oversampler\n",
    "ros = RandomOverSampler(random_state=42)\n",
    "\n",
    "X_train_ros, y_train_ros = ros.fit_resample(X_train_nos, y_train_nos)\n",
    "\n",
    "y_train_ros.value_counts(normalize=True)"
   ]
  },
  {
   "cell_type": "code",
   "execution_count": 12,
   "metadata": {},
   "outputs": [],
   "source": [
    "# Organise the samples into a dicitionary\n",
    "samples = {'nos': {'X_train': X_train_nos, 'y_train': y_train_nos, 'X_test': X_test, 'y_test': y_test},\n",
    "           'ros': {'X_train': X_train_ros, 'y_train': y_train_ros, 'X_test': X_test, 'y_test': y_test}}"
   ]
  },
  {
   "cell_type": "markdown",
   "metadata": {},
   "source": [
    "### Imputation\n",
    "<div class=\"alert alert-block alert-warning\">\n",
    "<b>Note:</b> \n",
    "TMissing values can be imputed, although they do require some consideration and investigation to see if they are randomly missing or there's something behind it.<br>\n",
    "Imputing missing values can use a univariate strategy (mean or most frequent) or a multivariate approach where we try to predict the missing values based on other features (MICE of KNN)\n",
    "<b> For this assignment I drop the missing values\n",
    "</div>"
   ]
  },
  {
   "cell_type": "markdown",
   "metadata": {},
   "source": [
    "### ML-Pipline"
   ]
  },
  {
   "cell_type": "code",
   "execution_count": 13,
   "metadata": {},
   "outputs": [],
   "source": [
    "scaler = StandardScaler()\n",
    "oh_encoder = OneHotEncoder(drop='first', sparse=False)\n",
    "\n",
    "# Create a transformer pipeline\n",
    "preprocessor = ColumnTransformer(\n",
    "    transformers=[\n",
    "        ('cat', oh_encoder, cat_cols),\n",
    "        ('num', scaler, num_cols)\n",
    "    ]\n",
    ")"
   ]
  },
  {
   "cell_type": "markdown",
   "metadata": {},
   "source": [
    "## 4. Model Training  <a id='4'><a>  "
   ]
  },
  {
   "cell_type": "markdown",
   "metadata": {},
   "source": [
    "<div class=\"alert alert-block alert-warning\">\n",
    "<b>Note:</b> \n",
    "Because of the imbalanced dataset, accuracy as a metric to measure how well the model performs is missleading.<br>\n",
    "A dummy model predicting only 0 would be 92% accurate. At the same time it will not help to identify who is likely to take a home insurance out and would not help us to improve the marketing campaign. <br>\n",
    "<b> For optimising the marketing campaign, the best evaluation metric to look at is the Precision.<br>Precision measures how many of the predicted positive classes actually are positive:<br>\n",
    "True Positive / (True Positive + False Positive)<br>\n",
    "In this case Precision is literally the success rate of the marketing campaign.\n",
    "    </b>\n",
    "<br> However, Precision doesn't look at the False Negatives. These would be mortgage holders we think won't take a homeinsurance out but in reality they would. Recall and F1 score takes the false negatives into account as well\n",
    "</div>"
   ]
  },
  {
   "cell_type": "code",
   "execution_count": 14,
   "metadata": {},
   "outputs": [
    {
     "name": "stderr",
     "output_type": "stream",
     "text": [
      "/home/gabor/anaconda3/envs/macaroni/lib/python3.10/site-packages/sklearn/metrics/_classification.py:1334: UndefinedMetricWarning: Precision is ill-defined and being set to 0.0 due to no predicted samples. Use `zero_division` parameter to control this behavior.\n",
      "  _warn_prf(average, modifier, msg_start, len(result))\n",
      "/home/gabor/anaconda3/envs/macaroni/lib/python3.10/site-packages/sklearn/metrics/_classification.py:1334: UndefinedMetricWarning: Precision is ill-defined and being set to 0.0 due to no predicted samples. Use `zero_division` parameter to control this behavior.\n",
      "  _warn_prf(average, modifier, msg_start, len(result))\n"
     ]
    }
   ],
   "source": [
    "models = [SVC(),\n",
    "          DecisionTreeClassifier(random_state=42),\n",
    "          RandomForestClassifier(random_state=42),\n",
    "          GaussianNB(),\n",
    "          LogisticRegression()]\n",
    "\n",
    "trained_models = []\n",
    "model_evals = []\n",
    "\n",
    "for sample in list(samples.keys()):\n",
    "    for model in models:\n",
    "        \n",
    "        # Get training and test datasets\n",
    "        X_this_train = samples.get(sample).get('X_train')\n",
    "        y_this_train = samples.get(sample).get('y_train')\n",
    "        X_this_test = samples.get(sample).get('X_test')\n",
    "        y_this_test = samples.get(sample).get('y_test')       \n",
    "        \n",
    "        # Append Predictor to pipeline \n",
    "        ml_pipe = Pipeline(\n",
    "            steps=[(\"preprocessor\", preprocessor), (\"classifier\", model)]\n",
    "        )\n",
    "\n",
    "        # Fit pipeline\n",
    "        ml_pipe.fit(X_this_train, y_this_train)\n",
    "        \n",
    "        # Use fitted model to predict Train and Test set \n",
    "        pred_train = ml_pipe.predict(X_this_train)\n",
    "        pred_test = ml_pipe.predict(X_this_test)\n",
    "\n",
    "        # Evaluate Accuracy\n",
    "        train_accuracy = accuracy_score(y_this_train, pred_train)\n",
    "        test_accuracy = accuracy_score(y_this_test, pred_test)\n",
    "\n",
    "        # Evaluate precision score\n",
    "        train_precision = precision_score(y_this_train, pred_train)\n",
    "        test_precision = precision_score(y_this_test, pred_test)\n",
    "        \n",
    "        # Evaluate F1 score\n",
    "        train_f1 = f1_score(y_this_train, pred_train)\n",
    "        test_f1 = f1_score(y_this_test, pred_test)\n",
    "\n",
    "        # Output\n",
    "        model_name = model.__repr__().split(':')[0]\n",
    "        model_evals.append([sample, model_name, \n",
    "                            train_accuracy, test_accuracy,\n",
    "                            train_precision, test_precision,\n",
    "                            train_f1, test_f1])\n",
    "        \n",
    "        trained_models.append(ml_pipe)"
   ]
  },
  {
   "cell_type": "code",
   "execution_count": 15,
   "metadata": {},
   "outputs": [],
   "source": [
    "df_model_performances = pd.DataFrame(model_evals,\n",
    "                                     columns=['Sampling', 'Predictor',\n",
    "                                              'Train Accuracy', 'Test Accuracy',\n",
    "                                              'Train Precision', 'Test Precision',\n",
    "                                              'Train F1', 'Test F1'])"
   ]
  },
  {
   "cell_type": "code",
   "execution_count": 16,
   "metadata": {},
   "outputs": [
    {
     "data": {
      "text/html": [
       "<div>\n",
       "<style scoped>\n",
       "    .dataframe tbody tr th:only-of-type {\n",
       "        vertical-align: middle;\n",
       "    }\n",
       "\n",
       "    .dataframe tbody tr th {\n",
       "        vertical-align: top;\n",
       "    }\n",
       "\n",
       "    .dataframe thead th {\n",
       "        text-align: right;\n",
       "    }\n",
       "</style>\n",
       "<table border=\"1\" class=\"dataframe\">\n",
       "  <thead>\n",
       "    <tr style=\"text-align: right;\">\n",
       "      <th></th>\n",
       "      <th>Sampling</th>\n",
       "      <th>Predictor</th>\n",
       "      <th>Train Accuracy</th>\n",
       "      <th>Test Accuracy</th>\n",
       "      <th>Train Precision</th>\n",
       "      <th>Test Precision</th>\n",
       "      <th>Train F1</th>\n",
       "      <th>Test F1</th>\n",
       "    </tr>\n",
       "  </thead>\n",
       "  <tbody>\n",
       "    <tr>\n",
       "      <th>0</th>\n",
       "      <td>nos</td>\n",
       "      <td>SVC()</td>\n",
       "      <td>0.917829</td>\n",
       "      <td>0.916279</td>\n",
       "      <td>0.000000</td>\n",
       "      <td>0.000000</td>\n",
       "      <td>0.000000</td>\n",
       "      <td>0.000000</td>\n",
       "    </tr>\n",
       "    <tr>\n",
       "      <th>1</th>\n",
       "      <td>nos</td>\n",
       "      <td>DecisionTreeClassifier(random_state=42)</td>\n",
       "      <td>1.000000</td>\n",
       "      <td>0.877519</td>\n",
       "      <td>1.000000</td>\n",
       "      <td>0.272727</td>\n",
       "      <td>1.000000</td>\n",
       "      <td>0.275229</td>\n",
       "    </tr>\n",
       "    <tr>\n",
       "      <th>2</th>\n",
       "      <td>nos</td>\n",
       "      <td>RandomForestClassifier(random_state=42)</td>\n",
       "      <td>1.000000</td>\n",
       "      <td>0.922481</td>\n",
       "      <td>1.000000</td>\n",
       "      <td>0.611111</td>\n",
       "      <td>1.000000</td>\n",
       "      <td>0.305556</td>\n",
       "    </tr>\n",
       "    <tr>\n",
       "      <th>3</th>\n",
       "      <td>nos</td>\n",
       "      <td>GaussianNB()</td>\n",
       "      <td>0.349354</td>\n",
       "      <td>0.401550</td>\n",
       "      <td>0.111033</td>\n",
       "      <td>0.121005</td>\n",
       "      <td>0.199619</td>\n",
       "      <td>0.215447</td>\n",
       "    </tr>\n",
       "    <tr>\n",
       "      <th>4</th>\n",
       "      <td>nos</td>\n",
       "      <td>LogisticRegression()</td>\n",
       "      <td>0.919897</td>\n",
       "      <td>0.917829</td>\n",
       "      <td>0.540000</td>\n",
       "      <td>0.529412</td>\n",
       "      <td>0.258373</td>\n",
       "      <td>0.253521</td>\n",
       "    </tr>\n",
       "    <tr>\n",
       "      <th>5</th>\n",
       "      <td>ros</td>\n",
       "      <td>SVC()</td>\n",
       "      <td>0.885980</td>\n",
       "      <td>0.807752</td>\n",
       "      <td>0.830043</td>\n",
       "      <td>0.275641</td>\n",
       "      <td>0.894887</td>\n",
       "      <td>0.409524</td>\n",
       "    </tr>\n",
       "    <tr>\n",
       "      <th>6</th>\n",
       "      <td>ros</td>\n",
       "      <td>DecisionTreeClassifier(random_state=42)</td>\n",
       "      <td>1.000000</td>\n",
       "      <td>0.882171</td>\n",
       "      <td>1.000000</td>\n",
       "      <td>0.303571</td>\n",
       "      <td>1.000000</td>\n",
       "      <td>0.309091</td>\n",
       "    </tr>\n",
       "    <tr>\n",
       "      <th>7</th>\n",
       "      <td>ros</td>\n",
       "      <td>RandomForestClassifier(random_state=42)</td>\n",
       "      <td>1.000000</td>\n",
       "      <td>0.914729</td>\n",
       "      <td>1.000000</td>\n",
       "      <td>0.488372</td>\n",
       "      <td>1.000000</td>\n",
       "      <td>0.432990</td>\n",
       "    </tr>\n",
       "    <tr>\n",
       "      <th>8</th>\n",
       "      <td>ros</td>\n",
       "      <td>GaussianNB()</td>\n",
       "      <td>0.597128</td>\n",
       "      <td>0.289922</td>\n",
       "      <td>0.554024</td>\n",
       "      <td>0.102362</td>\n",
       "      <td>0.712014</td>\n",
       "      <td>0.185053</td>\n",
       "    </tr>\n",
       "    <tr>\n",
       "      <th>9</th>\n",
       "      <td>ros</td>\n",
       "      <td>LogisticRegression()</td>\n",
       "      <td>0.829392</td>\n",
       "      <td>0.806202</td>\n",
       "      <td>0.804370</td>\n",
       "      <td>0.284848</td>\n",
       "      <td>0.836128</td>\n",
       "      <td>0.429224</td>\n",
       "    </tr>\n",
       "  </tbody>\n",
       "</table>\n",
       "</div>"
      ],
      "text/plain": [
       "  Sampling                                Predictor  Train Accuracy  \\\n",
       "0      nos                                    SVC()        0.917829   \n",
       "1      nos  DecisionTreeClassifier(random_state=42)        1.000000   \n",
       "2      nos  RandomForestClassifier(random_state=42)        1.000000   \n",
       "3      nos                             GaussianNB()        0.349354   \n",
       "4      nos                     LogisticRegression()        0.919897   \n",
       "5      ros                                    SVC()        0.885980   \n",
       "6      ros  DecisionTreeClassifier(random_state=42)        1.000000   \n",
       "7      ros  RandomForestClassifier(random_state=42)        1.000000   \n",
       "8      ros                             GaussianNB()        0.597128   \n",
       "9      ros                     LogisticRegression()        0.829392   \n",
       "\n",
       "   Test Accuracy  Train Precision  Test Precision  Train F1   Test F1  \n",
       "0       0.916279         0.000000        0.000000  0.000000  0.000000  \n",
       "1       0.877519         1.000000        0.272727  1.000000  0.275229  \n",
       "2       0.922481         1.000000        0.611111  1.000000  0.305556  \n",
       "3       0.401550         0.111033        0.121005  0.199619  0.215447  \n",
       "4       0.917829         0.540000        0.529412  0.258373  0.253521  \n",
       "5       0.807752         0.830043        0.275641  0.894887  0.409524  \n",
       "6       0.882171         1.000000        0.303571  1.000000  0.309091  \n",
       "7       0.914729         1.000000        0.488372  1.000000  0.432990  \n",
       "8       0.289922         0.554024        0.102362  0.712014  0.185053  \n",
       "9       0.806202         0.804370        0.284848  0.836128  0.429224  "
      ]
     },
     "execution_count": 16,
     "metadata": {},
     "output_type": "execute_result"
    }
   ],
   "source": [
    "df_model_performances"
   ]
  },
  {
   "cell_type": "code",
   "execution_count": 17,
   "metadata": {},
   "outputs": [
    {
     "data": {
      "image/png": "[encoded data removed]",
      "text/plain": [
       "<Figure size 1500x700 with 1 Axes>"
      ]
     },
     "metadata": {},
     "output_type": "display_data"
    }
   ],
   "source": [
    "fig, ax = plt.subplots(figsize=(15, 7))\n",
    "sns.barplot(data=df_model_performances,\n",
    "            x='Predictor',\n",
    "            y='Test Precision',\n",
    "            hue='Sampling',\n",
    "#              palette=cmap.colors,\n",
    "            ax=ax)\n",
    "\n",
    "ax.set_xticklabels(ax.get_xticklabels(),rotation = 90);"
   ]
  },
  {
   "cell_type": "markdown",
   "metadata": {},
   "source": [
    "### 4.1 Hyper parameter tuning\n",
    "We can perform hyper-parameter search on all of the model, although it can be time-consuming.\n",
    "  \n",
    "For this assessment I selected the Random Forest Classifier as it was the best performing model in regards to the precision score on the test dataset. However, this model has a perfect accuracy and precision score on the training sets. This can be the symptom of overfitting that would require some further investigation."
   ]
  },
  {
   "cell_type": "code",
   "execution_count": 18,
   "metadata": {},
   "outputs": [
    {
     "name": "stdout",
     "output_type": "stream",
     "text": [
      "0.6111111111111112\n"
     ]
    }
   ],
   "source": [
    "best_model_id = df_model_performances['Test Precision'].idxmax()\n",
    "\n",
    "# Get the model selected\n",
    "best_model = trained_models[best_model_id]\n",
    "\n",
    "# Get training and test datasets\n",
    "sample = df_model_performances['Sampling'].iloc[best_model_id]\n",
    "X_this_train = samples.get(sample).get('X_train')\n",
    "y_this_train = samples.get(sample).get('y_train')\n",
    "X_this_test = samples.get(sample).get('X_test')\n",
    "y_this_test = samples.get(sample).get('y_test')   \n",
    "\n",
    "param_grid = [\n",
    "    {'classifier__criterion': [\"gini\", \"entropy\", \"log_loss\"]}\n",
    " ]\n",
    "\n",
    "clf = GridSearchCV(best_model, param_grid=param_grid, scoring='precision')\n",
    "clf.fit(X_this_train, y_this_train)\n",
    "\n",
    "pred_test = clf.best_estimator_.predict(X_this_test)\n",
    "test_precision = precision_score(y_this_test, pred_test)\n",
    "print(test_precision)"
   ]
  },
  {
   "cell_type": "code",
   "execution_count": 19,
   "metadata": {},
   "outputs": [
    {
     "data": {
      "text/plain": [
       "array([[584,   7],\n",
       "       [ 43,  11]])"
      ]
     },
     "execution_count": 19,
     "metadata": {},
     "output_type": "execute_result"
    }
   ],
   "source": [
    "confusion_matrix(y_this_test, pred_test)"
   ]
  },
  {
   "cell_type": "code",
   "execution_count": 20,
   "metadata": {},
   "outputs": [
    {
     "data": {
      "text/plain": [
       "0.6111111111111112"
      ]
     },
     "execution_count": 20,
     "metadata": {},
     "output_type": "execute_result"
    }
   ],
   "source": [
    "precision_score(y_this_test, pred_test)"
   ]
  },
  {
   "cell_type": "markdown",
   "metadata": {},
   "source": [
    "## Confidence intervals for precision\n",
    "I am using bootstrapping to calculate the 95% confidence intervall boundaries of the marketing campaign success rate"
   ]
  },
  {
   "cell_type": "code",
   "execution_count": 21,
   "metadata": {},
   "outputs": [],
   "source": [
    "precisions = []\n",
    "\n",
    "for _ in range(10_000):\n",
    "    \n",
    "    bootsamp_x = X_this_test.sample(frac=1, replace = True)\n",
    "    bootsamp_y = y_this_test[bootsamp_x.index]\n",
    "    \n",
    "    bootsamp_pred = clf.best_estimator_.predict(bootsamp_x)\n",
    "\n",
    "    bootsamp_precision = precision_score(bootsamp_y, bootsamp_pred)\n",
    "\n",
    "    precisions.append(bootsamp_precision)"
   ]
  },
  {
   "cell_type": "code",
   "execution_count": 36,
   "metadata": {},
   "outputs": [
    {
     "name": "stdout",
     "output_type": "stream",
     "text": [
      "Precision: 0.61\n",
      "95% Confidence Interval: [0.37 0.83]\n"
     ]
    },
    {
     "data": {
      "image/png": "[encoded data removed]",
      "text/plain": [
       "<Figure size 1500x700 with 1 Axes>"
      ]
     },
     "metadata": {},
     "output_type": "display_data"
    }
   ],
   "source": [
    "boundaries = np.percentile(precisions, [2.5, 97.5])\n",
    "mean_precision = np.mean(precisions)\n",
    "\n",
    "print(f'Precision: {np.round(mean_precision, 2)}')\n",
    "print(f'95% Confidence Interval: {np.round(boundaries,2)}')\n",
    "\n",
    "fig, ax = plt.subplots(figsize=(15, 7))\n",
    "sns.histplot(precisions, kde=True, ax=ax)\n",
    "\n",
    "# get the kde line\n",
    "line = ax.get_lines()[0]\n",
    "\n",
    "# interpolate the height values at the CI boundary locations\n",
    "y_max_b = np.interp(boundaries, line.get_data()[0], line.get_data()[1])\n",
    "y_max_m = np.interp(mean_precision, line.get_data()[0], line.get_data()[1])\n",
    "\n",
    "\n",
    "# Add vertical line\n",
    "ax.vlines(boundaries, ymin=0, ymax=y_max_b, colors='red', linestyles='dashed')\n",
    "ax.vlines(mean_precision, ymin=0, ymax=y_max_m, colors='red', linestyles='dashed');"
   ]
  },
  {
   "cell_type": "markdown",
   "metadata": {},
   "source": [
    "## 5. Feature Importances <a id='5'><a>  "
   ]
  },
  {
   "cell_type": "code",
   "execution_count": 23,
   "metadata": {},
   "outputs": [],
   "source": [
    "forest = clf.best_estimator_[-1]\n",
    "\n",
    "importances = forest.feature_importances_\n",
    "std = np.std([tree.feature_importances_ for tree in forest.estimators_], axis=0)"
   ]
  },
  {
   "cell_type": "code",
   "execution_count": 24,
   "metadata": {},
   "outputs": [
    {
     "data": {
      "image/png": "[encoded data removed]",
      "text/plain": [
       "<Figure size 640x480 with 1 Axes>"
      ]
     },
     "metadata": {},
     "output_type": "display_data"
    }
   ],
   "source": [
    "feature_names = preprocessor.transformers_[0][1].get_feature_names_out().tolist() + num_cols\n",
    "\n",
    "forest_importances = pd.Series(importances, index=feature_names)\n",
    "\n",
    "fig, ax = plt.subplots()\n",
    "forest_importances.plot.bar(yerr=std, ax=ax)\n",
    "ax.set_title(\"Feature importances using MDI\")\n",
    "ax.set_ylabel(\"Mean decrease in impurity\")\n",
    "fig.tight_layout()"
   ]
  }
 ],
 "metadata": {
  "kernelspec": {
   "display_name": "Python 3 (ipykernel)",
   "language": "python",
   "name": "python3"
  },
  "language_info": {
   "codemirror_mode": {
    "name": "ipython",
    "version": 3
   },
   "file_extension": ".py",
   "mimetype": "text/x-python",
   "name": "python",
   "nbconvert_exporter": "python",
   "pygments_lexer": "ipython3",
   "version": "3.10.6"
  }
 },
 "nbformat": 4,
 "nbformat_minor": 4
}
