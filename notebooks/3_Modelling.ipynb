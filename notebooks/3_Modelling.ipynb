{
 "cells": [
  {
   "cell_type": "markdown",
   "metadata": {},
   "source": [
    "# Modelling\n",
    "\n",
    "This notebook picks up the previously cleaned and merged data, creates some new and pre-processes features, trains a binary classification model on the trainind set. Final section will evaluate the model.\n",
    "\n",
    "<a href='#1'>1. Feature Selection<a>  \n",
    "<a href='#2'>2. Feature Engineering<a>  \n",
    "<a href='#3'>3. Pre-processing<a>  \n",
    "<a href='#4'>4. Model Training<a>    \n",
    "<a href='#5'>5. Model Evaluation<a>    \n"
   ]
  },
  {
   "cell_type": "code",
   "execution_count": 1,
   "metadata": {},
   "outputs": [],
   "source": [
    "import pandas as pd\n",
    "import numpy as np\n",
    "\n",
    "import matplotlib.pyplot as plt\n",
    "\n",
    "# Modelling\n",
    "from sklearn.model_selection import train_test_split\n",
    "\n",
    "# impute\n",
    "from sklearn.impute import SimpleImputer\n",
    "\n",
    "# pre-processing\n",
    "from sklearn.preprocessing import OneHotEncoder, StandardScaler, MinMaxScaler\n",
    "from sklearn.pipeline import Pipeline, FeatureUnion\n",
    "from sklearn.compose import ColumnTransformer\n",
    "\n",
    "from sklearn.svm import SVC\n",
    "from sklearn.tree import DecisionTreeClassifier\n",
    "from sklearn.ensemble import RandomForestClassifier\n",
    "from sklearn.naive_bayes import GaussianNB\n",
    "from sklearn.linear_model import LogisticRegression\n",
    "\n",
    "from sklearn.model_selection import GridSearchCV\n",
    "\n",
    "from sklearn.metrics import confusion_matrix\n",
    "from sklearn.metrics import accuracy_score, f1_score, recall_score, precision_score, roc_curve"
   ]
  },
  {
   "cell_type": "markdown",
   "metadata": {},
   "source": [
    "## 1. Feature Selection <a id='1'><a>  "
   ]
  },
  {
   "cell_type": "code",
   "execution_count": 2,
   "metadata": {},
   "outputs": [
    {
     "data": {
      "text/html": [
       "<div>\n",
       "<style scoped>\n",
       "    .dataframe tbody tr th:only-of-type {\n",
       "        vertical-align: middle;\n",
       "    }\n",
       "\n",
       "    .dataframe tbody tr th {\n",
       "        vertical-align: top;\n",
       "    }\n",
       "\n",
       "    .dataframe thead th {\n",
       "        text-align: right;\n",
       "    }\n",
       "</style>\n",
       "<table border=\"1\" class=\"dataframe\">\n",
       "  <thead>\n",
       "    <tr style=\"text-align: right;\">\n",
       "      <th></th>\n",
       "      <th>participant_id</th>\n",
       "      <th>name_title</th>\n",
       "      <th>first_name</th>\n",
       "      <th>last_name</th>\n",
       "      <th>age</th>\n",
       "      <th>postcode</th>\n",
       "      <th>marital_status</th>\n",
       "      <th>education</th>\n",
       "      <th>job_title</th>\n",
       "      <th>occupation_level</th>\n",
       "      <th>...</th>\n",
       "      <th>post_area_code</th>\n",
       "      <th>postcode_area</th>\n",
       "      <th>postcode_area_name</th>\n",
       "      <th>sal_lower</th>\n",
       "      <th>sal_upper</th>\n",
       "      <th>sal_freq</th>\n",
       "      <th>sal_currency</th>\n",
       "      <th>sal_togbp_rate</th>\n",
       "      <th>sal_toyearly_factor</th>\n",
       "      <th>sal_mid_gbp</th>\n",
       "    </tr>\n",
       "  </thead>\n",
       "  <tbody>\n",
       "    <tr>\n",
       "      <th>0</th>\n",
       "      <td>8.997000e+12</td>\n",
       "      <td>Mr.</td>\n",
       "      <td>Dale</td>\n",
       "      <td>Coles</td>\n",
       "      <td>39</td>\n",
       "      <td>EH4 9FL</td>\n",
       "      <td>Never-married</td>\n",
       "      <td>Bachelors</td>\n",
       "      <td>Furniture conservator/restorer</td>\n",
       "      <td>1</td>\n",
       "      <td>...</td>\n",
       "      <td>EH</td>\n",
       "      <td>EH</td>\n",
       "      <td>Edinburgh</td>\n",
       "      <td>18109.0</td>\n",
       "      <td>18109.0</td>\n",
       "      <td>yearly</td>\n",
       "      <td>GBP</td>\n",
       "      <td>1.0</td>\n",
       "      <td>1.0</td>\n",
       "      <td>18109.0</td>\n",
       "    </tr>\n",
       "    <tr>\n",
       "      <th>1</th>\n",
       "      <td>2.764970e+12</td>\n",
       "      <td>None</td>\n",
       "      <td>Joel</td>\n",
       "      <td>Allen</td>\n",
       "      <td>50</td>\n",
       "      <td>LS5H 0JG</td>\n",
       "      <td>Married-civ-spouse</td>\n",
       "      <td>Bachelors</td>\n",
       "      <td>Administrator, sports</td>\n",
       "      <td>4</td>\n",
       "      <td>...</td>\n",
       "      <td>LS</td>\n",
       "      <td>LS</td>\n",
       "      <td>Leeds</td>\n",
       "      <td>16945.0</td>\n",
       "      <td>16945.0</td>\n",
       "      <td>yearly</td>\n",
       "      <td>GBP</td>\n",
       "      <td>1.0</td>\n",
       "      <td>1.0</td>\n",
       "      <td>16945.0</td>\n",
       "    </tr>\n",
       "  </tbody>\n",
       "</table>\n",
       "<p>2 rows × 47 columns</p>\n",
       "</div>"
      ],
      "text/plain": [
       "   participant_id name_title first_name last_name  age  postcode  \\\n",
       "0    8.997000e+12        Mr.       Dale     Coles   39   EH4 9FL   \n",
       "1    2.764970e+12       None       Joel     Allen   50  LS5H 0JG   \n",
       "\n",
       "       marital_status  education                       job_title  \\\n",
       "0       Never-married  Bachelors  Furniture conservator/restorer   \n",
       "1  Married-civ-spouse  Bachelors           Administrator, sports   \n",
       "\n",
       "   occupation_level  ...  post_area_code  postcode_area  postcode_area_name  \\\n",
       "0                 1  ...              EH             EH           Edinburgh   \n",
       "1                 4  ...              LS             LS               Leeds   \n",
       "\n",
       "   sal_lower sal_upper sal_freq sal_currency sal_togbp_rate  \\\n",
       "0    18109.0   18109.0   yearly          GBP            1.0   \n",
       "1    16945.0   16945.0   yearly          GBP            1.0   \n",
       "\n",
       "  sal_toyearly_factor sal_mid_gbp  \n",
       "0                 1.0     18109.0  \n",
       "1                 1.0     16945.0  \n",
       "\n",
       "[2 rows x 47 columns]"
      ]
     },
     "execution_count": 2,
     "metadata": {},
     "output_type": "execute_result"
    }
   ],
   "source": [
    "df_hi = pd.read_parquet('../data/1_interim/1_merged_data.parquet')\n",
    "df_hi.head(2)"
   ]
  },
  {
   "cell_type": "markdown",
   "metadata": {},
   "source": [
    "<div class=\"alert alert-block alert-warning\">\n",
    "<b>Assumption:</b> \n",
    "The intended use of the predicitons is to pre-select mortgage customers who are likely to take out a home insurance. Considering the intended business use I assume that information from campaign table won't be available for the next campaign.   \n",
    "Bacuase information from the mortgage has practical significance, <b>I only consider features from the mortgage table.<b>\n",
    "</div>"
   ]
  },
  {
   "cell_type": "markdown",
   "metadata": {},
   "source": [
    "The columns available or can be derived from mortgage dataset are:\n",
    "- `full_name`,\n",
    "- `dob`, \n",
    "- `town`,\n",
    "- `paye`,\n",
    "- `salary_band`,\n",
    "- `years_with_employer`,\n",
    "- `months_with_employer`,\n",
    "- `hours_per_week`,\n",
    "- `capital_gain`,\n",
    "- `capital_loss`,\n",
    "- `new_mortgage`,\n",
    "- `sex`,\n",
    "- `religion`,\n",
    "- `relationship`,\n",
    "- `race`,\n",
    "- `native_country`,\n",
    "- `workclass`,\n",
    "- `demographic_characteristic`\n",
    "- `sal_mid_gbp`\n",
    "\n",
    "The target columns to predict:\n",
    "- `'created_account'`"
   ]
  },
  {
   "cell_type": "code",
   "execution_count": 3,
   "metadata": {},
   "outputs": [
    {
     "data": {
      "text/plain": [
       "Index(['participant_id', 'name_title', 'first_name', 'last_name', 'age',\n",
       "       'postcode', 'marital_status', 'education', 'job_title',\n",
       "       'occupation_level', 'education_num', 'familiarity_FB', 'view_FB',\n",
       "       'interested_insurance', 'company_email', 'created_account', 'full_name',\n",
       "       'dob', 'town', 'paye', 'salary_band', 'years_with_employer',\n",
       "       'months_with_employer', 'hours_per_week', 'capital_gain',\n",
       "       'capital_loss', 'new_mortgage', 'sex', 'religion', 'relationship',\n",
       "       'race', 'native_country', 'workclass', 'demographic_characteristic',\n",
       "       'duplicated', 'dob_yr', 'campaign_yr', 'post_area_code',\n",
       "       'postcode_area', 'postcode_area_name', 'sal_lower', 'sal_upper',\n",
       "       'sal_freq', 'sal_currency', 'sal_togbp_rate', 'sal_toyearly_factor',\n",
       "       'sal_mid_gbp'],\n",
       "      dtype='object')"
      ]
     },
     "execution_count": 3,
     "metadata": {},
     "output_type": "execute_result"
    }
   ],
   "source": [
    "# mortgage_cols = []\n",
    "df_hi.columns\n",
    "\n",
    "# df_hi['marital_status'].unique()\n",
    "# df_hi['relationship'].unique()\n",
    "# df_hi['education'].unique()\n",
    "# df_hi['job_title'].unique()\n",
    "# df_hi['workclass'].unique()"
   ]
  },
  {
   "cell_type": "markdown",
   "metadata": {},
   "source": [
    "## Features to include and pre-process\n",
    "\n",
    "`'created_account'` - target variable - binary classification\n",
    "\n",
    "`'age'` - numeric, continous (discrete)  \n",
    "`'sex'` - categorical with 2 values - as boolean 0/1  \n",
    "`'religion'` - categorical, non-ordinal one-hot encoding   \n",
    "`'relationship'` - categorical, non-ordinal one-hot encoding  \n",
    "\n",
    "`'education'` - categorical, ordinal encoded with integers  \n",
    "`'education_num'`  \n",
    "`'occupation_level'`  \n",
    "\n",
    "`'sal_mid_gbp'` - numeric, continous\n",
    "\n",
    "`'new_mortgage'` - categorical with 2 values - as boolean 0/1  \n",
    "\n",
    "`years_with_employer` + `months_with_employer` - numerical continous feature as decimal years  \n",
    "`hours_per_week`"
   ]
  },
  {
   "cell_type": "markdown",
   "metadata": {},
   "source": [
    "## 2. Feature Engineering  <a id='2'><a>  \n",
    "- Create a column representing the time spent with employer as a continous value\n",
    "- Turn target column to 1 (`Yes`) and 0 (`No`)"
   ]
  },
  {
   "cell_type": "code",
   "execution_count": 4,
   "metadata": {},
   "outputs": [
    {
     "data": {
      "text/html": [
       "<div>\n",
       "<style scoped>\n",
       "    .dataframe tbody tr th:only-of-type {\n",
       "        vertical-align: middle;\n",
       "    }\n",
       "\n",
       "    .dataframe tbody tr th {\n",
       "        vertical-align: top;\n",
       "    }\n",
       "\n",
       "    .dataframe thead th {\n",
       "        text-align: right;\n",
       "    }\n",
       "</style>\n",
       "<table border=\"1\" class=\"dataframe\">\n",
       "  <thead>\n",
       "    <tr style=\"text-align: right;\">\n",
       "      <th></th>\n",
       "      <th>time_with_employer</th>\n",
       "      <th>years_with_employer</th>\n",
       "      <th>months_with_employer</th>\n",
       "    </tr>\n",
       "  </thead>\n",
       "  <tbody>\n",
       "    <tr>\n",
       "      <th>0</th>\n",
       "      <td>20.500000</td>\n",
       "      <td>20.0</td>\n",
       "      <td>6.0</td>\n",
       "    </tr>\n",
       "    <tr>\n",
       "      <th>1</th>\n",
       "      <td>28.083333</td>\n",
       "      <td>28.0</td>\n",
       "      <td>1.0</td>\n",
       "    </tr>\n",
       "    <tr>\n",
       "      <th>2</th>\n",
       "      <td>14.416667</td>\n",
       "      <td>14.0</td>\n",
       "      <td>5.0</td>\n",
       "    </tr>\n",
       "    <tr>\n",
       "      <th>3</th>\n",
       "      <td>32.500000</td>\n",
       "      <td>32.0</td>\n",
       "      <td>6.0</td>\n",
       "    </tr>\n",
       "    <tr>\n",
       "      <th>4</th>\n",
       "      <td>3.500000</td>\n",
       "      <td>3.0</td>\n",
       "      <td>6.0</td>\n",
       "    </tr>\n",
       "  </tbody>\n",
       "</table>\n",
       "</div>"
      ],
      "text/plain": [
       "   time_with_employer  years_with_employer  months_with_employer\n",
       "0           20.500000                 20.0                   6.0\n",
       "1           28.083333                 28.0                   1.0\n",
       "2           14.416667                 14.0                   5.0\n",
       "3           32.500000                 32.0                   6.0\n",
       "4            3.500000                  3.0                   6.0"
      ]
     },
     "execution_count": 4,
     "metadata": {},
     "output_type": "execute_result"
    }
   ],
   "source": [
    "# Combine time with employer columns\n",
    "df_hi['time_with_employer'] = df_hi['years_with_employer'] + df_hi['months_with_employer']/12\n",
    "df_hi[['time_with_employer', 'years_with_employer', 'months_with_employer']].head()"
   ]
  },
  {
   "cell_type": "code",
   "execution_count": 5,
   "metadata": {},
   "outputs": [
    {
     "data": {
      "text/plain": [
       "relationship          407\n",
       "sex                   407\n",
       "religion              407\n",
       "age                     0\n",
       "education_num           0\n",
       "occupation_level        0\n",
       "time_with_employer    407\n",
       "hours_per_week        407\n",
       "created_account         0\n",
       "dtype: int64"
      ]
     },
     "execution_count": 5,
     "metadata": {},
     "output_type": "execute_result"
    }
   ],
   "source": [
    "cat_cols = ['relationship', 'sex', 'religion']\n",
    "num_cols = ['age', 'education_num', 'occupation_level','time_with_employer', 'hours_per_week']\n",
    "target_col = 'created_account'\n",
    "\n",
    "feature_cols = cat_cols + num_cols + [target_col]\n",
    "\n",
    "df_hi[feature_cols].isna().sum()"
   ]
  },
  {
   "cell_type": "code",
   "execution_count": 6,
   "metadata": {},
   "outputs": [],
   "source": [
    "# Convert target\n",
    "df_hi[target_col] = df_hi[target_col].map({'No': 0, 'Yes': 1})"
   ]
  },
  {
   "cell_type": "code",
   "execution_count": 7,
   "metadata": {},
   "outputs": [
    {
     "data": {
      "image/png": "[encoded data removed]",
      "text/plain": [
       "<Figure size 640x480 with 1 Axes>"
      ]
     },
     "metadata": {},
     "output_type": "display_data"
    }
   ],
   "source": [
    "df_hi[feature_cols].isna().sum(1).plot(kind='hist');"
   ]
  },
  {
   "cell_type": "code",
   "execution_count": 8,
   "metadata": {},
   "outputs": [
    {
     "name": "stdout",
     "output_type": "stream",
     "text": [
      "False\n"
     ]
    },
    {
     "data": {
      "text/plain": [
       "0    2367\n",
       "1     213\n",
       "Name: created_account, dtype: int64"
      ]
     },
     "execution_count": 8,
     "metadata": {},
     "output_type": "execute_result"
    }
   ],
   "source": [
    "df_hi_clean = df_hi.drop(df_hi[df_hi[feature_cols].isna().sum(1)==5].index)\n",
    "print(df_hi_clean[feature_cols].isna().any().any())\n",
    "df_hi_clean['created_account'].value_counts()"
   ]
  },
  {
   "cell_type": "code",
   "execution_count": 9,
   "metadata": {},
   "outputs": [
    {
     "data": {
      "text/plain": [
       "0    0.917442\n",
       "1    0.082558\n",
       "Name: created_account, dtype: float64"
      ]
     },
     "execution_count": 9,
     "metadata": {},
     "output_type": "execute_result"
    }
   ],
   "source": [
    "df_hi_clean['created_account'].value_counts(normalize=True)"
   ]
  },
  {
   "cell_type": "markdown",
   "metadata": {},
   "source": [
    "## 3. Pre-processing <a id='3'><a>  "
   ]
  },
  {
   "cell_type": "markdown",
   "metadata": {},
   "source": [
    "## Train-test split\n",
    "This has to be done before fitting any predictors to avoid data-leakage"
   ]
  },
  {
   "cell_type": "code",
   "execution_count": null,
   "metadata": {},
   "outputs": [],
   "source": [
    "X = df_hi_clean[feature_cols[:-1]]\n",
    "y = df_hi_clean[feature_cols[-1]]\n",
    "\n",
    "X_train, X_test, y_train, y_test = train_test_split(X, y, random_state=42)"
   ]
  },
  {
   "cell_type": "code",
   "execution_count": null,
   "metadata": {},
   "outputs": [],
   "source": [
    "y_train.value_counts(normalize=True)"
   ]
  },
  {
   "cell_type": "markdown",
   "metadata": {},
   "source": [
    "<div class=\"alert alert-block alert-warning\">\n",
    "<b>Assumption:</b> \n",
    "The target classes are highly unbalanced; 92% did not take out a home insurance, whilst only 8% took it.<b>\n",
    "</div>"
   ]
  },
  {
   "cell_type": "code",
   "execution_count": null,
   "metadata": {},
   "outputs": [],
   "source": []
  },
  {
   "cell_type": "markdown",
   "metadata": {},
   "source": [
    "### Imputation\n",
    "Impute the missing values"
   ]
  },
  {
   "cell_type": "markdown",
   "metadata": {},
   "source": [
    "# TODO: \n",
    "https://stackoverflow.com/questions/25239958/impute-categorical-missing-values-in-scikit-learn"
   ]
  },
  {
   "cell_type": "code",
   "execution_count": null,
   "metadata": {},
   "outputs": [],
   "source": [
    "from sklearn.experimental import enable_iterative_imputer\n",
    "from sklearn.impute import IterativeImputer\n",
    "from sklearn.impute import KNNImputer"
   ]
  },
  {
   "cell_type": "code",
   "execution_count": null,
   "metadata": {},
   "outputs": [],
   "source": [
    "try:\n",
    "    imp = IterativeImputer(max_iter=10, random_state=0)\n",
    "    imp.fit(X_train)\n",
    "except:\n",
    "    print('Error')"
   ]
  },
  {
   "cell_type": "code",
   "execution_count": null,
   "metadata": {},
   "outputs": [],
   "source": [
    "try:\n",
    "    imputer = KNNImputer(n_neighbors=2, weights=\"uniform\")\n",
    "    imputer.fit_transform(X_train)\n",
    "except:\n",
    "    print('Error')"
   ]
  },
  {
   "cell_type": "code",
   "execution_count": null,
   "metadata": {},
   "outputs": [],
   "source": [
    "scaler = StandardScaler()\n",
    "oh_encoder = OneHotEncoder(drop='first', sparse=False)"
   ]
  },
  {
   "cell_type": "code",
   "execution_count": null,
   "metadata": {},
   "outputs": [],
   "source": [
    "# Create a transformer pipeline\n",
    "# The features will be transformed and output in the order of the transformers\n",
    "preprocessor = ColumnTransformer(\n",
    "    transformers=[\n",
    "        ('cat', oh_encoder, cat_cols),\n",
    "        ('num', scaler, num_cols)\n",
    "    ]\n",
    ")"
   ]
  },
  {
   "cell_type": "code",
   "execution_count": null,
   "metadata": {},
   "outputs": [],
   "source": [
    "# preprocessor.fit(X_train)"
   ]
  },
  {
   "cell_type": "code",
   "execution_count": null,
   "metadata": {},
   "outputs": [],
   "source": [
    "# get the feature names back\n",
    "# preprocessor.transformers_[0][1].get_feature_names()"
   ]
  },
  {
   "cell_type": "code",
   "execution_count": null,
   "metadata": {},
   "outputs": [],
   "source": [
    "ml_pipe = Pipeline(\n",
    "        steps=[(\"preprocessor\", preprocessor), (\"classifier\", LogisticRegression())]\n",
    "    )"
   ]
  },
  {
   "cell_type": "code",
   "execution_count": null,
   "metadata": {},
   "outputs": [],
   "source": [
    "ml_pipe.fit(X_train, y_train)"
   ]
  },
  {
   "cell_type": "code",
   "execution_count": null,
   "metadata": {},
   "outputs": [],
   "source": [
    "pred_train = ml_pipe.predict(X_train)"
   ]
  },
  {
   "cell_type": "code",
   "execution_count": null,
   "metadata": {},
   "outputs": [],
   "source": [
    "train_accuracy = accuracy_score(y_train, pred_train)\n",
    "train_accuracy"
   ]
  },
  {
   "cell_type": "code",
   "execution_count": null,
   "metadata": {},
   "outputs": [],
   "source": [
    "f1_score(y_train, pred_train)"
   ]
  },
  {
   "cell_type": "markdown",
   "metadata": {},
   "source": [
    "## 3. Model Training  <a id='3'><a>  "
   ]
  },
  {
   "cell_type": "code",
   "execution_count": null,
   "metadata": {},
   "outputs": [],
   "source": [
    "models = [SVC(), DecisionTreeClassifier(random_state=42), RandomForestClassifier(random_state=42), GaussianNB(), LogisticRegression()]"
   ]
  },
  {
   "cell_type": "code",
   "execution_count": null,
   "metadata": {},
   "outputs": [],
   "source": [
    "trained_models = []\n",
    "\n",
    "for model in models:\n",
    "    \n",
    "    ml_pipe = Pipeline(\n",
    "        steps=[(\"preprocessor\", preprocessor), (\"classifier\", model)]\n",
    "    )\n",
    "    \n",
    "    ml_pipe.fit(X_train, y_train)\n",
    "    \n",
    "    pred_train = ml_pipe.predict(X_train)\n",
    "    pred_test = ml_pipe.predict(X_test)\n",
    "    \n",
    "    # Evaluate Accuracy\n",
    "    train_accuracy = accuracy_score(y_train, pred_train)\n",
    "    test_accuracy = accuracy_score(y_test, pred_test)\n",
    "    \n",
    "    # Evaluate F1 score\n",
    "    train_f1 = f1_score(y_train, pred_train)\n",
    "    test_f1 = f1_score(y_test, pred_test)\n",
    "    \n",
    "    # Output\n",
    "    model_name = model.__repr__().split(':')[0]\n",
    "    print(f'{model_name}:\\t TRA: {train_accuracy:.2%},\\t TSA: {test_accuracy:.2%}\\t TRF1: {train_f1:.2%},\\t TSF1: {test_f1:.2%}')\n",
    "#     print(f'{model_name}:\\t TRA: {train_accuracy:.2%},\\t TRF1: {train_f1:.2%}')\n",
    "#     model_evals.append([model_name, train_accuracy, test_accuracy, train_f1, test_f1])\n",
    "    trained_models.append(ml_pipe)"
   ]
  },
  {
   "cell_type": "markdown",
   "metadata": {},
   "source": [
    "### 4.1 Hyper parameter tuning"
   ]
  },
  {
   "cell_type": "code",
   "execution_count": null,
   "metadata": {},
   "outputs": [],
   "source": []
  },
  {
   "cell_type": "code",
   "execution_count": null,
   "metadata": {},
   "outputs": [],
   "source": [
    "# best_model.get_params()"
   ]
  },
  {
   "cell_type": "code",
   "execution_count": null,
   "metadata": {},
   "outputs": [],
   "source": [
    "best_model = trained_models[2]\n",
    "# best_model\n",
    "\n",
    "param_grid = [\n",
    "    {'classifier__criterion': [\"gini\", \"entropy\", \"log_loss\"]}\n",
    " ]\n",
    "\n",
    "clf = GridSearchCV(best_model, param_grid=param_grid, scoring='f1')\n",
    "clf.fit(X_train, y_train)"
   ]
  },
  {
   "cell_type": "code",
   "execution_count": null,
   "metadata": {},
   "outputs": [],
   "source": [
    "pred_test = clf.best_estimator_.predict(X_test)\n",
    "test_f1 = f1_score(y_test, pred_test)\n",
    "test_f1"
   ]
  },
  {
   "cell_type": "code",
   "execution_count": null,
   "metadata": {},
   "outputs": [],
   "source": [
    "confusion_matrix(y_test, pred_test)"
   ]
  },
  {
   "cell_type": "code",
   "execution_count": null,
   "metadata": {},
   "outputs": [],
   "source": [
    "11/18"
   ]
  },
  {
   "cell_type": "markdown",
   "metadata": {},
   "source": [
    "## 5. Model Evaluation <a id='5'><a>  "
   ]
  },
  {
   "cell_type": "code",
   "execution_count": null,
   "metadata": {},
   "outputs": [],
   "source": [
    "forest = trained_models[2]\n",
    "\n",
    "importances = forest.feature_importances_\n",
    "std = np.std([tree.feature_importances_ for tree in forest.estimators_], axis=0)"
   ]
  },
  {
   "cell_type": "code",
   "execution_count": null,
   "metadata": {},
   "outputs": [],
   "source": [
    "feature_names = preprocessor.transformers_[0][1].get_feature_names_out().tolist() + num_cols\n",
    "\n",
    "forest_importances = pd.Series(importances, index=feature_names)\n",
    "\n",
    "fig, ax = plt.subplots()\n",
    "forest_importances.plot.bar(yerr=std, ax=ax)\n",
    "ax.set_title(\"Feature importances using MDI\")\n",
    "ax.set_ylabel(\"Mean decrease in impurity\")\n",
    "fig.tight_layout()"
   ]
  },
  {
   "cell_type": "code",
   "execution_count": null,
   "metadata": {},
   "outputs": [],
   "source": [
    "print('f1: ', f1_score(y_train.map({'No':0, 'Yes':1}), y_train_pred))\n",
    "print('recall: ', recall_score(y_train.map({'No':0, 'Yes':1}), y_train_pred))\n",
    "print('recall: ', recall_score(y_train.map({'No':0, 'Yes':1}), y_train_pred))\n",
    "\n",
    "print(confusion_matrix(y_train.map({'No':0, 'Yes':1}), y_train_pred, labels=[0, 1]))\n",
    "print(confusion_matrix(y_train, y_train))"
   ]
  },
  {
   "cell_type": "code",
   "execution_count": null,
   "metadata": {},
   "outputs": [],
   "source": [
    "rfc = RandomForestClassifier()\n",
    "rfc.fit(X_train, y_train.map({'No':0, 'Yes':1}))\n",
    "\n",
    "y_train_pred = rfc.predict(X_train)\n",
    "\n",
    "print('f1: ', f1_score(y_train.map({'No':0, 'Yes':1}), y_train_pred))\n",
    "print('recall: ', recall_score(y_train.map({'No':0, 'Yes':1}), y_train_pred))\n",
    "print('recall: ', recall_score(y_train.map({'No':0, 'Yes':1}), y_train_pred))\n",
    "\n",
    "print(confusion_matrix(y_train.map({'No':0, 'Yes':1}), y_train_pred, labels=[0, 1]))\n",
    "print(confusion_matrix(y_train, y_train))"
   ]
  },
  {
   "cell_type": "code",
   "execution_count": null,
   "metadata": {},
   "outputs": [],
   "source": [
    "rfc.predict_proba(X_train)"
   ]
  },
  {
   "cell_type": "code",
   "execution_count": null,
   "metadata": {},
   "outputs": [],
   "source": [
    "nb = GaussianNB()\n",
    "nb.fit(X_train, y_train.map({'No':0, 'Yes':1}))\n",
    "\n",
    "y_train_pred = nb.predict(X_train)\n",
    "\n",
    "print('f1: ', f1_score(y_train.map({'No':0, 'Yes':1}), y_train_pred))\n",
    "print('recall: ', recall_score(y_train.map({'No':0, 'Yes':1}), y_train_pred))\n",
    "print('precision: ', precision_score(y_train.map({'No':0, 'Yes':1}), y_train_pred))\n",
    "\n",
    "print(confusion_matrix(y_train.map({'No':0, 'Yes':1}), y_train_pred, labels=[0, 1]))\n",
    "print(confusion_matrix(y_train, y_train))"
   ]
  },
  {
   "cell_type": "code",
   "execution_count": null,
   "metadata": {},
   "outputs": [],
   "source": []
  }
 ],
 "metadata": {
  "kernelspec": {
   "display_name": "Python 3 (ipykernel)",
   "language": "python",
   "name": "python3"
  },
  "language_info": {
   "codemirror_mode": {
    "name": "ipython",
    "version": 3
   },
   "file_extension": ".py",
   "mimetype": "text/x-python",
   "name": "python",
   "nbconvert_exporter": "python",
   "pygments_lexer": "ipython3",
   "version": "3.10.6"
  }
 },
 "nbformat": 4,
 "nbformat_minor": 4
}
