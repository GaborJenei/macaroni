{
 "cells": [
  {
   "cell_type": "markdown",
   "metadata": {},
   "source": [
    "## 4. Feature processing\n",
    "\n",
    "Session Level features:  \n",
    "- No of sessions\n",
    "- Average length of session\n",
    "- Averge number of items in session\n",
    "- Average no of different page visits (adverts, thumbs up, thumbs down etc) in a session\n",
    "  \n",
    "User level features:\n",
    "- Days since registering\n",
    "- Total no of different page visits (adverts, thumbs up, thumbs down etc) in a session\n",
    "- Level\n",
    "- Gender\n",
    "- State\n",
    "  \n",
    "Label:\n",
    "- churn"
   ]
  },
  {
   "cell_type": "code",
   "execution_count": 258,
   "metadata": {},
   "outputs": [],
   "source": [
    "import pandas as pd\n",
    "import numpy as np\n",
    "\n",
    "import matplotlib.pyplot as plt\n",
    "\n",
    "# Modelling\n",
    "from sklearn.model_selection import train_test_split\n",
    "\n",
    "# impute\n",
    "from sklearn.impute import SimpleImputer\n",
    "\n",
    "# pre-processing\n",
    "from sklearn.preprocessing import OneHotEncoder, StandardScaler, MinMaxScaler\n",
    "\n"
   ]
  },
  {
   "cell_type": "code",
   "execution_count": 2,
   "metadata": {},
   "outputs": [
    {
     "data": {
      "text/html": [
       "<div>\n",
       "<style scoped>\n",
       "    .dataframe tbody tr th:only-of-type {\n",
       "        vertical-align: middle;\n",
       "    }\n",
       "\n",
       "    .dataframe tbody tr th {\n",
       "        vertical-align: top;\n",
       "    }\n",
       "\n",
       "    .dataframe thead th {\n",
       "        text-align: right;\n",
       "    }\n",
       "</style>\n",
       "<table border=\"1\" class=\"dataframe\">\n",
       "  <thead>\n",
       "    <tr style=\"text-align: right;\">\n",
       "      <th></th>\n",
       "      <th>participant_id</th>\n",
       "      <th>name_title</th>\n",
       "      <th>first_name</th>\n",
       "      <th>last_name</th>\n",
       "      <th>age</th>\n",
       "      <th>postcode</th>\n",
       "      <th>marital_status</th>\n",
       "      <th>education</th>\n",
       "      <th>job_title</th>\n",
       "      <th>occupation_level</th>\n",
       "      <th>...</th>\n",
       "      <th>post_area_code</th>\n",
       "      <th>postcode_area</th>\n",
       "      <th>postcode_area_name</th>\n",
       "      <th>sal_lower</th>\n",
       "      <th>sal_upper</th>\n",
       "      <th>sal_freq</th>\n",
       "      <th>sal_currency</th>\n",
       "      <th>sal_togbp_rate</th>\n",
       "      <th>sal_toyearly_factor</th>\n",
       "      <th>sal_mid_gbp</th>\n",
       "    </tr>\n",
       "  </thead>\n",
       "  <tbody>\n",
       "    <tr>\n",
       "      <th>0</th>\n",
       "      <td>8.997000e+12</td>\n",
       "      <td>Mr.</td>\n",
       "      <td>Dale</td>\n",
       "      <td>Coles</td>\n",
       "      <td>39</td>\n",
       "      <td>EH4 9FL</td>\n",
       "      <td>Never-married</td>\n",
       "      <td>Bachelors</td>\n",
       "      <td>Furniture conservator/restorer</td>\n",
       "      <td>1</td>\n",
       "      <td>...</td>\n",
       "      <td>EH</td>\n",
       "      <td>EH</td>\n",
       "      <td>Edinburgh</td>\n",
       "      <td>18109.00</td>\n",
       "      <td>18109.00</td>\n",
       "      <td>yearly</td>\n",
       "      <td>GBP</td>\n",
       "      <td>1.0</td>\n",
       "      <td>1.0</td>\n",
       "      <td>18109.00</td>\n",
       "    </tr>\n",
       "    <tr>\n",
       "      <th>1</th>\n",
       "      <td>2.764970e+12</td>\n",
       "      <td>None</td>\n",
       "      <td>Joel</td>\n",
       "      <td>Allen</td>\n",
       "      <td>50</td>\n",
       "      <td>LS5H 0JG</td>\n",
       "      <td>Married-civ-spouse</td>\n",
       "      <td>Bachelors</td>\n",
       "      <td>Administrator, sports</td>\n",
       "      <td>4</td>\n",
       "      <td>...</td>\n",
       "      <td>LS</td>\n",
       "      <td>LS</td>\n",
       "      <td>Leeds</td>\n",
       "      <td>16945.00</td>\n",
       "      <td>16945.00</td>\n",
       "      <td>yearly</td>\n",
       "      <td>GBP</td>\n",
       "      <td>1.0</td>\n",
       "      <td>1.0</td>\n",
       "      <td>16945.00</td>\n",
       "    </tr>\n",
       "    <tr>\n",
       "      <th>2</th>\n",
       "      <td>8.454880e+12</td>\n",
       "      <td>Mr.</td>\n",
       "      <td>Craig</td>\n",
       "      <td>Davis</td>\n",
       "      <td>38</td>\n",
       "      <td>EH8W 2QJ</td>\n",
       "      <td>Divorced</td>\n",
       "      <td>HS-grad</td>\n",
       "      <td>Armed forces training and education officer</td>\n",
       "      <td>12</td>\n",
       "      <td>...</td>\n",
       "      <td>EH</td>\n",
       "      <td>EH</td>\n",
       "      <td>Edinburgh</td>\n",
       "      <td>729.87</td>\n",
       "      <td>729.87</td>\n",
       "      <td>pw</td>\n",
       "      <td>GBP</td>\n",
       "      <td>1.0</td>\n",
       "      <td>52.0</td>\n",
       "      <td>37953.24</td>\n",
       "    </tr>\n",
       "    <tr>\n",
       "      <th>3</th>\n",
       "      <td>5.781320e+12</td>\n",
       "      <td>Mr.</td>\n",
       "      <td>Brandon</td>\n",
       "      <td>Thornton</td>\n",
       "      <td>53</td>\n",
       "      <td>EH2 5UE</td>\n",
       "      <td>Married-civ-spouse</td>\n",
       "      <td>11th</td>\n",
       "      <td>Facilities assistant</td>\n",
       "      <td>1</td>\n",
       "      <td>...</td>\n",
       "      <td>EH</td>\n",
       "      <td>EH</td>\n",
       "      <td>Edinburgh</td>\n",
       "      <td>19087.00</td>\n",
       "      <td>19087.00</td>\n",
       "      <td>yearly</td>\n",
       "      <td>GBP</td>\n",
       "      <td>1.0</td>\n",
       "      <td>1.0</td>\n",
       "      <td>19087.00</td>\n",
       "    </tr>\n",
       "    <tr>\n",
       "      <th>4</th>\n",
       "      <td>8.687490e+12</td>\n",
       "      <td>Miss</td>\n",
       "      <td>Brett</td>\n",
       "      <td>Fletcher</td>\n",
       "      <td>28</td>\n",
       "      <td>SN19 0PU</td>\n",
       "      <td>Married-civ-spouse</td>\n",
       "      <td>Bachelors</td>\n",
       "      <td>Information systems manager</td>\n",
       "      <td>12</td>\n",
       "      <td>...</td>\n",
       "      <td>SN</td>\n",
       "      <td>SN</td>\n",
       "      <td>Swindon</td>\n",
       "      <td>2741.50</td>\n",
       "      <td>2741.50</td>\n",
       "      <td>per month</td>\n",
       "      <td>GBP</td>\n",
       "      <td>1.0</td>\n",
       "      <td>12.0</td>\n",
       "      <td>32898.00</td>\n",
       "    </tr>\n",
       "  </tbody>\n",
       "</table>\n",
       "<p>5 rows × 47 columns</p>\n",
       "</div>"
      ],
      "text/plain": [
       "   participant_id name_title first_name last_name  age  postcode  \\\n",
       "0    8.997000e+12        Mr.       Dale     Coles   39   EH4 9FL   \n",
       "1    2.764970e+12       None       Joel     Allen   50  LS5H 0JG   \n",
       "2    8.454880e+12        Mr.      Craig     Davis   38  EH8W 2QJ   \n",
       "3    5.781320e+12        Mr.    Brandon  Thornton   53   EH2 5UE   \n",
       "4    8.687490e+12       Miss      Brett  Fletcher   28  SN19 0PU   \n",
       "\n",
       "       marital_status  education                                    job_title  \\\n",
       "0       Never-married  Bachelors               Furniture conservator/restorer   \n",
       "1  Married-civ-spouse  Bachelors                        Administrator, sports   \n",
       "2            Divorced    HS-grad  Armed forces training and education officer   \n",
       "3  Married-civ-spouse       11th                         Facilities assistant   \n",
       "4  Married-civ-spouse  Bachelors                  Information systems manager   \n",
       "\n",
       "   occupation_level  ...  post_area_code  postcode_area  postcode_area_name  \\\n",
       "0                 1  ...              EH             EH           Edinburgh   \n",
       "1                 4  ...              LS             LS               Leeds   \n",
       "2                12  ...              EH             EH           Edinburgh   \n",
       "3                 1  ...              EH             EH           Edinburgh   \n",
       "4                12  ...              SN             SN             Swindon   \n",
       "\n",
       "   sal_lower sal_upper   sal_freq sal_currency sal_togbp_rate  \\\n",
       "0   18109.00  18109.00     yearly          GBP            1.0   \n",
       "1   16945.00  16945.00     yearly          GBP            1.0   \n",
       "2     729.87    729.87         pw          GBP            1.0   \n",
       "3   19087.00  19087.00     yearly          GBP            1.0   \n",
       "4    2741.50   2741.50  per month          GBP            1.0   \n",
       "\n",
       "  sal_toyearly_factor sal_mid_gbp  \n",
       "0                 1.0    18109.00  \n",
       "1                 1.0    16945.00  \n",
       "2                52.0    37953.24  \n",
       "3                 1.0    19087.00  \n",
       "4                12.0    32898.00  \n",
       "\n",
       "[5 rows x 47 columns]"
      ]
     },
     "execution_count": 2,
     "metadata": {},
     "output_type": "execute_result"
    }
   ],
   "source": [
    "df_hi = pd.read_parquet('../data/1_interim/1_merged_data.parquet')\n",
    "df_hi.head()"
   ]
  },
  {
   "cell_type": "code",
   "execution_count": 14,
   "metadata": {},
   "outputs": [
    {
     "data": {
      "text/plain": [
       "Index(['participant_id', 'name_title', 'first_name', 'last_name', 'age',\n",
       "       'postcode', 'marital_status', 'education', 'job_title',\n",
       "       'occupation_level', 'education_num', 'familiarity_FB', 'view_FB',\n",
       "       'interested_insurance', 'company_email', 'created_account', 'full_name',\n",
       "       'dob', 'town', 'paye', 'salary_band', 'years_with_employer',\n",
       "       'months_with_employer', 'hours_per_week', 'capital_gain',\n",
       "       'capital_loss', 'new_mortgage', 'sex', 'religion', 'relationship',\n",
       "       'race', 'native_country', 'workclass', 'demographic_characteristic',\n",
       "       'duplicated', 'dob_yr', 'campaign_yr', 'post_area_code',\n",
       "       'postcode_area', 'postcode_area_name', 'sal_lower', 'sal_upper',\n",
       "       'sal_freq', 'sal_currency', 'sal_togbp_rate', 'sal_toyearly_factor',\n",
       "       'sal_mid_gbp', 'time_with_employer'],\n",
       "      dtype='object')"
      ]
     },
     "execution_count": 14,
     "metadata": {},
     "output_type": "execute_result"
    }
   ],
   "source": [
    "df_hi.columns"
   ]
  },
  {
   "cell_type": "code",
   "execution_count": 3,
   "metadata": {},
   "outputs": [
    {
     "data": {
      "text/plain": [
       "array(['Never-married', 'Married-civ-spouse', 'Divorced',\n",
       "       'Married-spouse-absent', 'Separated', 'Married-AF-spouse',\n",
       "       'Widowed'], dtype=object)"
      ]
     },
     "execution_count": 3,
     "metadata": {},
     "output_type": "execute_result"
    }
   ],
   "source": [
    "df_hi['marital_status'].unique()"
   ]
  },
  {
   "cell_type": "code",
   "execution_count": 4,
   "metadata": {},
   "outputs": [
    {
     "data": {
      "text/plain": [
       "array(['Not-in-family', 'Husband', 'Wife', None, 'Own-child', 'Unmarried',\n",
       "       'Other-relative'], dtype=object)"
      ]
     },
     "execution_count": 4,
     "metadata": {},
     "output_type": "execute_result"
    }
   ],
   "source": [
    "df_hi['relationship'].unique()"
   ]
  },
  {
   "cell_type": "code",
   "execution_count": 5,
   "metadata": {},
   "outputs": [
    {
     "data": {
      "text/plain": [
       "array(['Bachelors', 'HS-grad', '11th', 'Masters', '9th', 'Some-college',\n",
       "       'Assoc-acdm', 'Assoc-voc', '7th-8th', 'Doctorate', 'Prof-school',\n",
       "       '5th-6th', '10th', '1st-4th', 'Preschool', '12th'], dtype=object)"
      ]
     },
     "execution_count": 5,
     "metadata": {},
     "output_type": "execute_result"
    }
   ],
   "source": [
    "df_hi['education'].unique()"
   ]
  },
  {
   "cell_type": "code",
   "execution_count": 6,
   "metadata": {},
   "outputs": [
    {
     "data": {
      "text/plain": [
       "array(['Furniture conservator/restorer', 'Administrator, sports',\n",
       "       'Armed forces training and education officer',\n",
       "       'Facilities assistant', 'Information systems manager',\n",
       "       'Buyer, retail', 'Construction Worker', 'Assistant Professor',\n",
       "       'Insurance broker', 'Development worker, international aid',\n",
       "       'Local government officer', 'Gaffer', 'Colour technologist',\n",
       "       'Designer, multimedia', 'Cartographer', 'Acupuncturist',\n",
       "       'Engineer, control and instrumentation', 'Dispensing optician',\n",
       "       'Equality and diversity officer', 'Engineer, manufacturing',\n",
       "       'Insurance Lead Underwritor', 'Legal executive', 'Interpreter',\n",
       "       'Games developer', 'Heritage manager',\n",
       "       'Professorial Research Fellow', 'Health visitor', 'Data Scientist',\n",
       "       'Scientist, research (life sciences)',\n",
       "       'Education officer, community', 'Conservator, museum/gallery',\n",
       "       'Event organiser', 'Horticultural therapist',\n",
       "       'Health and safety inspector', 'Human resources officer',\n",
       "       'Medical physicist', 'Academic librarian', 'Chiropodist',\n",
       "       'Microbiologist', 'Insurance account manager',\n",
       "       'Accountant, chartered certified', 'Administrator', 'Farm worker',\n",
       "       'Engineer, civil (consulting)', 'Futures trader',\n",
       "       'Health service manager', 'Artist',\n",
       "       'Geophysicist/field seismologist', 'Insurance claims handler',\n",
       "       'Call centre manager', 'Designer, ceramics/pottery',\n",
       "       'Clothing/textile technologist', 'Designer, jewellery',\n",
       "       'Commissioning editor', 'Professorial Teaching Assistant',\n",
       "       'Police officer', 'Airline pilot', 'Contractor', 'Farmer',\n",
       "       'Biomedical scientist', 'Charity officer',\n",
       "       'Land/geomatics surveyor', 'Store Assistant',\n",
       "       'Building control surveyor', 'Health and safety adviser',\n",
       "       'Engineer, land', 'Lexicographer', 'Clinical psychologist',\n",
       "       'President', 'Therapist, drama', 'Fisheries officer',\n",
       "       'Animal nutritionist', 'Armed forces operational officer',\n",
       "       'Designer, textile', 'Amenity horticulturist',\n",
       "       'Counselling psychologist', 'Counsellor',\n",
       "       'Designer, blown glass/stained glass', 'Hotel manager',\n",
       "       'Immigration officer', 'Insurance underwriter', 'Herbalist',\n",
       "       'Geneticist, molecular', 'Environmental health practitioner',\n",
       "       'Dealer', 'Journalist, broadcasting', 'Intern Artist',\n",
       "       'Advertising account planner', 'Teaching Assistant',\n",
       "       'Communications engineer', 'Biomedical engineer',\n",
       "       'Embryologist, clinical', 'Automotive engineer',\n",
       "       'Market researcher', 'Broadcast engineer', 'Dietitian',\n",
       "       'Health physicist', 'Conservation officer, historic buildings',\n",
       "       'Vice Chancellor', 'Technical brewer', 'Lecturer',\n",
       "       'Database administrator', 'Tutor', 'Museum education officer',\n",
       "       'Accommodation manager', 'Firefighter', 'Estate agent',\n",
       "       'Field seismologist', 'Research officer, trade union',\n",
       "       'Head of Data Science', 'Fine artist', 'Journalist, newspaper',\n",
       "       'Copywriter, advertising', 'Theatre director', 'Graphic designer',\n",
       "       'Translator', 'Designer, interior/spatial',\n",
       "       'Designer, fashion/clothing', 'Air cabin crew', 'Stage manager',\n",
       "       'Accountant, chartered', 'Astronomer', 'Midwife',\n",
       "       'Chemist, analytical', 'Principal Data Scientist',\n",
       "       'Tourism officer', 'Engineer, broadcasting (operations)', 'Writer',\n",
       "       'Senior Data Scientist', 'Electrical engineer', 'Sub',\n",
       "       'Film/video editor',\n",
       "       'Historic buildings inspector/conservation officer',\n",
       "       'Sports development officer', 'Environmental education officer',\n",
       "       'Chief Strategy Officer', 'Catering manager',\n",
       "       'Computer games developer', 'Broadcast presenter',\n",
       "       'Health promotion specialist', 'Location manager', 'Bookseller',\n",
       "       'Clinical research associate', 'Toxicologist',\n",
       "       'Claims inspector/assessor', 'Building services engineer',\n",
       "       'Patent examiner', 'Public relations officer',\n",
       "       'Chartered certified accountant', 'Designer',\n",
       "       'Art gallery manager', 'Magazine journalist', 'Drilling engineer',\n",
       "       'Glass blower/designer', 'Horticulturist, amenity',\n",
       "       'Teaching Fellow', 'Press sub', 'Dean', 'Librarian, public',\n",
       "       'Engineer, maintenance (IT)', 'IT consultant', 'Loss adjuster',\n",
       "       'Estate manager/land agent', 'Osteopath',\n",
       "       'Higher education lecturer', 'Armed forces technical officer',\n",
       "       'Geoscientist', 'Technical Architect', 'IT trainer',\n",
       "       'Product designer', 'Civil Service fast streamer',\n",
       "       'Scientist, research (physical sciences)', 'Forensic scientist',\n",
       "       'Fishery worker', 'Metallurgist', 'Video editor',\n",
       "       'Journalist, magazine', 'Public relations account executive',\n",
       "       'Land', 'Geologist, engineering', 'Waste management officer',\n",
       "       'Cabin crew', 'Adult nurse', 'Best boy', 'Social researcher',\n",
       "       'Corporate investment banker', 'Horticulturist, commercial',\n",
       "       'Geophysical data processor', 'Instructor', 'Engineer, site',\n",
       "       'Nutritional therapist', 'Teaching Professor', 'Engineer, water',\n",
       "       'Occupational psychologist', 'Pharmacist, community',\n",
       "       'Learning mentor', 'Senior Engineer', 'Professor',\n",
       "       'General practice doctor', 'Early years teacher', 'Architect',\n",
       "       'Multimedia specialist', 'Housing manager/officer',\n",
       "       'Advertising art director', 'Intelligence analyst',\n",
       "       'Arboriculturist', 'Barista', 'Secretary', 'Fish farm manager',\n",
       "       'Prison officer', 'Environmental manager', 'Software Engineer',\n",
       "       'Investment banker, operational', 'Hospital pharmacist',\n",
       "       'Careers adviser', 'Dance movement psychotherapist', 'Copy',\n",
       "       'Further education lecturer', 'Dancer', 'Sales executive',\n",
       "       'Geologist, wellsite', 'Senior tax professional/tax inspector',\n",
       "       'Media buyer', 'Provost', 'Retail banker', 'Senior Architect',\n",
       "       'Ceramics designer', 'Professor Emeritus',\n",
       "       'Senior research fellow', 'Teaching Associate',\n",
       "       'Seismic interpreter', 'Scientist, research (medical)',\n",
       "       'Special effects artist', 'Web designer', 'Doctor, hospital',\n",
       "       'Applications developer', 'Science writer',\n",
       "       'Race relations officer', 'Probation officer',\n",
       "       'Engineer, chemical', 'Music tutor', 'Town planner',\n",
       "       'Engineer, technical sales', 'Field trials officer',\n",
       "       'Fast food restaurant manager', 'Merchant navy officer',\n",
       "       'Scientist, clinical (histocompatibility and immunogenetics)',\n",
       "       'Warden/ranger', 'Forensic psychologist', 'Engineering geologist',\n",
       "       'Production manager', 'Government Cabinate Member',\n",
       "       'Chief Technology Officer', 'Exercise physiologist',\n",
       "       'Chief Executive Officer', 'International aid/development worker',\n",
       "       'Exhibitions officer, museum/gallery', 'Sports therapist',\n",
       "       'Psychologist, forensic', 'Meteorologist',\n",
       "       'Trading standards officer', 'Publishing rights manager',\n",
       "       'Barrister', 'Information officer', 'Surveyor, minerals',\n",
       "       'Engineer, building services', 'Private music teacher',\n",
       "       'Art therapist', 'Clinical cytogeneticist',\n",
       "       'Data processing manager', 'Industrial buyer', 'Senior Tutor',\n",
       "       'Investment analyst', 'Chief Financial Officer',\n",
       "       'Engineer, drilling', 'Head of School', 'Reader',\n",
       "       'Administrator, local government', 'Banker',\n",
       "       'Psychologist, sport and exercise', 'Restaurant manager',\n",
       "       'Interior and spatial designer', 'Psychologist, counselling',\n",
       "       'Teacher, special educational needs', 'Pharmacologist',\n",
       "       'Pension scheme manager', 'Site engineer',\n",
       "       'Professor of the Practice', 'Community education officer',\n",
       "       'Psychotherapist, dance movement', 'Jewellery designer',\n",
       "       'Quarry manager', 'Medical secretary', 'Chief Data Officer',\n",
       "       'Production assistant, radio', 'Managing Director',\n",
       "       'Financial risk analyst', 'Haematologist',\n",
       "       'Production designer, theatre/television/film',\n",
       "       \"Nurse, children's\", 'Engineer, production', 'Prime Minister',\n",
       "       'Financial adviser', 'Diplomatic Services operational officer',\n",
       "       'Visual merchandiser', 'Illustrator', 'Risk manager',\n",
       "       'Wellsite geologist', 'Head of Data Services',\n",
       "       'Teacher, adult education', 'Lead Data Scientist', 'Farm manager',\n",
       "       'Water quality scientist', 'Operations geologist',\n",
       "       'Charity fundraiser', 'Management consultant',\n",
       "       'Corporate treasurer', 'Contracting civil engineer',\n",
       "       'Scientist, research (maths)', 'Education officer, museum',\n",
       "       'Newspaper journalist', 'Lecturer, further education',\n",
       "       'Clinical scientist, histocompatibility and immunogenetics',\n",
       "       'Teacher, music', 'Television camera operator', 'Paramedic',\n",
       "       'Air traffic controller', 'Ecologist', 'Retail manager',\n",
       "       'Associate Professor', 'Loss adjuster, chartered',\n",
       "       'Manufacturing systems engineer', 'Chief Operating Officer',\n",
       "       'Civil engineer, contracting', 'Oncologist', 'Personnel officer',\n",
       "       'Air broker', 'Nurse, learning disability', 'Nurse, adult',\n",
       "       'Research scientist (physical sciences)', 'Minerals surveyor',\n",
       "       'Higher education careers adviser', 'Department Chair',\n",
       "       'Water engineer', 'Orthoptist', 'Travel agency manager',\n",
       "       'Scientist, audiological', 'Paediatric nurse',\n",
       "       'Geographical information systems officer',\n",
       "       'Accounting technician', 'Chartered management accountant',\n",
       "       'Licensed conveyancer', 'Aid worker', 'Retail buyer',\n",
       "       'Scientist, marine', 'Tax inspector', 'Ranger/warden',\n",
       "       'Psychologist, clinical', 'Teacher, English as a foreign language',\n",
       "       'Tourist information centre manager', 'Lawyer', 'Hospital doctor',\n",
       "       'Actuary', 'Engineer, maintenance', 'Head of Product',\n",
       "       'Presenter, broadcasting', 'Administrator, arts',\n",
       "       'Brewing technologist', 'Research scientist (maths)',\n",
       "       'Theatre manager', 'Nature conservation officer',\n",
       "       'Research officer, political party', 'Mental health nurse',\n",
       "       'IT technical support officer', 'Biochemist, clinical',\n",
       "       'Engineer, manufacturing systems', 'Therapist, occupational',\n",
       "       'Engineer, biomedical', 'Quality manager',\n",
       "       'Teaching laboratory technician', 'Chief Innovation Officer',\n",
       "       'Animator', 'Control and instrumentation engineer',\n",
       "       'Radio producer', 'Commercial horticulturist',\n",
       "       'Garment/textile technologist', 'Cytogeneticist'], dtype=object)"
      ]
     },
     "execution_count": 6,
     "metadata": {},
     "output_type": "execute_result"
    }
   ],
   "source": [
    "df_hi['job_title'].unique()"
   ]
  },
  {
   "cell_type": "code",
   "execution_count": 7,
   "metadata": {},
   "outputs": [
    {
     "data": {
      "text/plain": [
       "array(['State-gov', 'Self-emp-not-inc', 'Private', None, 'Federal-gov',\n",
       "       'Local-gov', '?', 'Self-emp-inc'], dtype=object)"
      ]
     },
     "execution_count": 7,
     "metadata": {},
     "output_type": "execute_result"
    }
   ],
   "source": [
    "df_hi['workclass'].unique()"
   ]
  },
  {
   "cell_type": "code",
   "execution_count": null,
   "metadata": {},
   "outputs": [],
   "source": []
  },
  {
   "cell_type": "markdown",
   "metadata": {},
   "source": [
    "## Features to include and pre-process\n",
    "\n",
    "`'created_account'` - target variable - binary classification\n",
    "\n",
    "`'age'` - numeric, continous (discrete)  \n",
    "`'sex'` - categorical with 2 values - as boolean 0/1  \n",
    "`'religion'` - categorical, non-ordinal one-hot encoding   \n",
    "`'relationship'` - categorical, non-ordinal one-hot encoding  \n",
    "\n",
    "`'education'` - categorical, ordinal encoded with integers  \n",
    "`'education_num'`  \n",
    "`'occupation_level'`  \n",
    "\n",
    "`'sal_mid_gbp'` - numeric, continous\n",
    "\n",
    "`'new_mortgage'` - categorical with 2 values - as boolean 0/1  \n",
    "\n",
    "`years_with_employer` + `months_with_employer` - numerical continous feature as decimal years  \n",
    "`hours_per_week`"
   ]
  },
  {
   "cell_type": "code",
   "execution_count": 45,
   "metadata": {},
   "outputs": [
    {
     "data": {
      "text/html": [
       "<div>\n",
       "<style scoped>\n",
       "    .dataframe tbody tr th:only-of-type {\n",
       "        vertical-align: middle;\n",
       "    }\n",
       "\n",
       "    .dataframe tbody tr th {\n",
       "        vertical-align: top;\n",
       "    }\n",
       "\n",
       "    .dataframe thead th {\n",
       "        text-align: right;\n",
       "    }\n",
       "</style>\n",
       "<table border=\"1\" class=\"dataframe\">\n",
       "  <thead>\n",
       "    <tr style=\"text-align: right;\">\n",
       "      <th></th>\n",
       "      <th>education</th>\n",
       "      <th>education_num</th>\n",
       "    </tr>\n",
       "  </thead>\n",
       "  <tbody>\n",
       "    <tr>\n",
       "      <th>224</th>\n",
       "      <td>Preschool</td>\n",
       "      <td>1</td>\n",
       "    </tr>\n",
       "    <tr>\n",
       "      <th>160</th>\n",
       "      <td>1st-4th</td>\n",
       "      <td>3</td>\n",
       "    </tr>\n",
       "    <tr>\n",
       "      <th>57</th>\n",
       "      <td>5th-6th</td>\n",
       "      <td>4</td>\n",
       "    </tr>\n",
       "    <tr>\n",
       "      <th>15</th>\n",
       "      <td>7th-8th</td>\n",
       "      <td>5</td>\n",
       "    </tr>\n",
       "    <tr>\n",
       "      <th>6</th>\n",
       "      <td>9th</td>\n",
       "      <td>6</td>\n",
       "    </tr>\n",
       "    <tr>\n",
       "      <th>77</th>\n",
       "      <td>10th</td>\n",
       "      <td>8</td>\n",
       "    </tr>\n",
       "    <tr>\n",
       "      <th>3</th>\n",
       "      <td>11th</td>\n",
       "      <td>9</td>\n",
       "    </tr>\n",
       "    <tr>\n",
       "      <th>414</th>\n",
       "      <td>12th</td>\n",
       "      <td>10</td>\n",
       "    </tr>\n",
       "    <tr>\n",
       "      <th>2</th>\n",
       "      <td>HS-grad</td>\n",
       "      <td>12</td>\n",
       "    </tr>\n",
       "    <tr>\n",
       "      <th>10</th>\n",
       "      <td>Some-college</td>\n",
       "      <td>13</td>\n",
       "    </tr>\n",
       "    <tr>\n",
       "      <th>14</th>\n",
       "      <td>Assoc-voc</td>\n",
       "      <td>14</td>\n",
       "    </tr>\n",
       "    <tr>\n",
       "      <th>13</th>\n",
       "      <td>Assoc-acdm</td>\n",
       "      <td>16</td>\n",
       "    </tr>\n",
       "    <tr>\n",
       "      <th>0</th>\n",
       "      <td>Bachelors</td>\n",
       "      <td>17</td>\n",
       "    </tr>\n",
       "    <tr>\n",
       "      <th>5</th>\n",
       "      <td>Masters</td>\n",
       "      <td>18</td>\n",
       "    </tr>\n",
       "    <tr>\n",
       "      <th>53</th>\n",
       "      <td>Prof-school</td>\n",
       "      <td>20</td>\n",
       "    </tr>\n",
       "    <tr>\n",
       "      <th>20</th>\n",
       "      <td>Doctorate</td>\n",
       "      <td>21</td>\n",
       "    </tr>\n",
       "  </tbody>\n",
       "</table>\n",
       "</div>"
      ],
      "text/plain": [
       "        education  education_num\n",
       "224     Preschool              1\n",
       "160       1st-4th              3\n",
       "57        5th-6th              4\n",
       "15        7th-8th              5\n",
       "6             9th              6\n",
       "77           10th              8\n",
       "3            11th              9\n",
       "414          12th             10\n",
       "2         HS-grad             12\n",
       "10   Some-college             13\n",
       "14      Assoc-voc             14\n",
       "13     Assoc-acdm             16\n",
       "0       Bachelors             17\n",
       "5         Masters             18\n",
       "53    Prof-school             20\n",
       "20      Doctorate             21"
      ]
     },
     "execution_count": 45,
     "metadata": {},
     "output_type": "execute_result"
    }
   ],
   "source": [
    "df_hi[['education', 'education_num']].drop_duplicates().sort_values('education_num')"
   ]
  },
  {
   "cell_type": "code",
   "execution_count": 50,
   "metadata": {},
   "outputs": [
    {
     "data": {
      "text/html": [
       "<div>\n",
       "<style scoped>\n",
       "    .dataframe tbody tr th:only-of-type {\n",
       "        vertical-align: middle;\n",
       "    }\n",
       "\n",
       "    .dataframe tbody tr th {\n",
       "        vertical-align: top;\n",
       "    }\n",
       "\n",
       "    .dataframe thead th {\n",
       "        text-align: right;\n",
       "    }\n",
       "</style>\n",
       "<table border=\"1\" class=\"dataframe\">\n",
       "  <thead>\n",
       "    <tr style=\"text-align: right;\">\n",
       "      <th></th>\n",
       "      <th>education</th>\n",
       "      <th>education_num</th>\n",
       "      <th>occupation_level</th>\n",
       "    </tr>\n",
       "  </thead>\n",
       "  <tbody>\n",
       "    <tr>\n",
       "      <th>2956</th>\n",
       "      <td>Preschool</td>\n",
       "      <td>1</td>\n",
       "      <td>8</td>\n",
       "    </tr>\n",
       "    <tr>\n",
       "      <th>224</th>\n",
       "      <td>Preschool</td>\n",
       "      <td>1</td>\n",
       "      <td>7</td>\n",
       "    </tr>\n",
       "    <tr>\n",
       "      <th>934</th>\n",
       "      <td>Preschool</td>\n",
       "      <td>1</td>\n",
       "      <td>13</td>\n",
       "    </tr>\n",
       "    <tr>\n",
       "      <th>2682</th>\n",
       "      <td>1st-4th</td>\n",
       "      <td>3</td>\n",
       "      <td>12</td>\n",
       "    </tr>\n",
       "    <tr>\n",
       "      <th>1917</th>\n",
       "      <td>1st-4th</td>\n",
       "      <td>3</td>\n",
       "      <td>4</td>\n",
       "    </tr>\n",
       "    <tr>\n",
       "      <th>...</th>\n",
       "      <td>...</td>\n",
       "      <td>...</td>\n",
       "      <td>...</td>\n",
       "    </tr>\n",
       "    <tr>\n",
       "      <th>96</th>\n",
       "      <td>Doctorate</td>\n",
       "      <td>21</td>\n",
       "      <td>10</td>\n",
       "    </tr>\n",
       "    <tr>\n",
       "      <th>89</th>\n",
       "      <td>Doctorate</td>\n",
       "      <td>21</td>\n",
       "      <td>8</td>\n",
       "    </tr>\n",
       "    <tr>\n",
       "      <th>65</th>\n",
       "      <td>Doctorate</td>\n",
       "      <td>21</td>\n",
       "      <td>14</td>\n",
       "    </tr>\n",
       "    <tr>\n",
       "      <th>1076</th>\n",
       "      <td>Doctorate</td>\n",
       "      <td>21</td>\n",
       "      <td>18</td>\n",
       "    </tr>\n",
       "    <tr>\n",
       "      <th>412</th>\n",
       "      <td>Doctorate</td>\n",
       "      <td>21</td>\n",
       "      <td>12</td>\n",
       "    </tr>\n",
       "  </tbody>\n",
       "</table>\n",
       "<p>227 rows × 3 columns</p>\n",
       "</div>"
      ],
      "text/plain": [
       "      education  education_num  occupation_level\n",
       "2956  Preschool              1                 8\n",
       "224   Preschool              1                 7\n",
       "934   Preschool              1                13\n",
       "2682    1st-4th              3                12\n",
       "1917    1st-4th              3                 4\n",
       "...         ...            ...               ...\n",
       "96    Doctorate             21                10\n",
       "89    Doctorate             21                 8\n",
       "65    Doctorate             21                14\n",
       "1076  Doctorate             21                18\n",
       "412   Doctorate             21                12\n",
       "\n",
       "[227 rows x 3 columns]"
      ]
     },
     "execution_count": 50,
     "metadata": {},
     "output_type": "execute_result"
    }
   ],
   "source": [
    "df_hi[['education', 'education_num', 'occupation_level']].drop_duplicates().sort_values('education_num')"
   ]
  },
  {
   "cell_type": "markdown",
   "metadata": {},
   "source": [
    "## Feature Engineering"
   ]
  },
  {
   "cell_type": "code",
   "execution_count": 8,
   "metadata": {},
   "outputs": [
    {
     "data": {
      "text/html": [
       "<div>\n",
       "<style scoped>\n",
       "    .dataframe tbody tr th:only-of-type {\n",
       "        vertical-align: middle;\n",
       "    }\n",
       "\n",
       "    .dataframe tbody tr th {\n",
       "        vertical-align: top;\n",
       "    }\n",
       "\n",
       "    .dataframe thead th {\n",
       "        text-align: right;\n",
       "    }\n",
       "</style>\n",
       "<table border=\"1\" class=\"dataframe\">\n",
       "  <thead>\n",
       "    <tr style=\"text-align: right;\">\n",
       "      <th></th>\n",
       "      <th>time_with_employer</th>\n",
       "      <th>years_with_employer</th>\n",
       "      <th>months_with_employer</th>\n",
       "    </tr>\n",
       "  </thead>\n",
       "  <tbody>\n",
       "    <tr>\n",
       "      <th>0</th>\n",
       "      <td>20.500000</td>\n",
       "      <td>20.0</td>\n",
       "      <td>6.0</td>\n",
       "    </tr>\n",
       "    <tr>\n",
       "      <th>1</th>\n",
       "      <td>28.083333</td>\n",
       "      <td>28.0</td>\n",
       "      <td>1.0</td>\n",
       "    </tr>\n",
       "    <tr>\n",
       "      <th>2</th>\n",
       "      <td>14.416667</td>\n",
       "      <td>14.0</td>\n",
       "      <td>5.0</td>\n",
       "    </tr>\n",
       "    <tr>\n",
       "      <th>3</th>\n",
       "      <td>32.500000</td>\n",
       "      <td>32.0</td>\n",
       "      <td>6.0</td>\n",
       "    </tr>\n",
       "    <tr>\n",
       "      <th>4</th>\n",
       "      <td>3.500000</td>\n",
       "      <td>3.0</td>\n",
       "      <td>6.0</td>\n",
       "    </tr>\n",
       "    <tr>\n",
       "      <th>...</th>\n",
       "      <td>...</td>\n",
       "      <td>...</td>\n",
       "      <td>...</td>\n",
       "    </tr>\n",
       "    <tr>\n",
       "      <th>3031</th>\n",
       "      <td>2.250000</td>\n",
       "      <td>2.0</td>\n",
       "      <td>3.0</td>\n",
       "    </tr>\n",
       "    <tr>\n",
       "      <th>3032</th>\n",
       "      <td>8.250000</td>\n",
       "      <td>8.0</td>\n",
       "      <td>3.0</td>\n",
       "    </tr>\n",
       "    <tr>\n",
       "      <th>3033</th>\n",
       "      <td>2.666667</td>\n",
       "      <td>2.0</td>\n",
       "      <td>8.0</td>\n",
       "    </tr>\n",
       "    <tr>\n",
       "      <th>3034</th>\n",
       "      <td>0.416667</td>\n",
       "      <td>0.0</td>\n",
       "      <td>5.0</td>\n",
       "    </tr>\n",
       "    <tr>\n",
       "      <th>3035</th>\n",
       "      <td>NaN</td>\n",
       "      <td>NaN</td>\n",
       "      <td>NaN</td>\n",
       "    </tr>\n",
       "  </tbody>\n",
       "</table>\n",
       "<p>2987 rows × 3 columns</p>\n",
       "</div>"
      ],
      "text/plain": [
       "      time_with_employer  years_with_employer  months_with_employer\n",
       "0              20.500000                 20.0                   6.0\n",
       "1              28.083333                 28.0                   1.0\n",
       "2              14.416667                 14.0                   5.0\n",
       "3              32.500000                 32.0                   6.0\n",
       "4               3.500000                  3.0                   6.0\n",
       "...                  ...                  ...                   ...\n",
       "3031            2.250000                  2.0                   3.0\n",
       "3032            8.250000                  8.0                   3.0\n",
       "3033            2.666667                  2.0                   8.0\n",
       "3034            0.416667                  0.0                   5.0\n",
       "3035                 NaN                  NaN                   NaN\n",
       "\n",
       "[2987 rows x 3 columns]"
      ]
     },
     "execution_count": 8,
     "metadata": {},
     "output_type": "execute_result"
    }
   ],
   "source": [
    "df_hi['time_with_employer'] = df_hi['years_with_employer'] + df_hi['months_with_employer']/12\n",
    "df_hi[['time_with_employer', 'years_with_employer', 'months_with_employer']]"
   ]
  },
  {
   "cell_type": "code",
   "execution_count": 169,
   "metadata": {},
   "outputs": [
    {
     "data": {
      "text/plain": [
       "relationship           True\n",
       "sex                    True\n",
       "religion               True\n",
       "age                   False\n",
       "education_num         False\n",
       "occupation_level      False\n",
       "time_with_employer     True\n",
       "hours_per_week         True\n",
       "created_account       False\n",
       "dtype: bool"
      ]
     },
     "execution_count": 169,
     "metadata": {},
     "output_type": "execute_result"
    }
   ],
   "source": [
    "cat_cols = ['relationship', 'sex', 'religion']\n",
    "num_cols = ['age', 'education_num', 'occupation_level','time_with_employer', 'hours_per_week']\n",
    "target_col = 'created_account'\n",
    "\n",
    "feature_cols = cat_cols + num_cols + [target_col]\n",
    "\n",
    "df_hi[feature_cols].isna().any()"
   ]
  },
  {
   "cell_type": "code",
   "execution_count": 170,
   "metadata": {},
   "outputs": [
    {
     "data": {
      "text/plain": [
       "<AxesSubplot: ylabel='Frequency'>"
      ]
     },
     "execution_count": 170,
     "metadata": {},
     "output_type": "execute_result"
    },
    {
     "data": {
      "image/png": "[encoded data removed]",
      "text/plain": [
       "<Figure size 640x480 with 1 Axes>"
      ]
     },
     "metadata": {},
     "output_type": "display_data"
    }
   ],
   "source": [
    "df_hi[feature_cols].isna().sum(1).plot(kind='hist')"
   ]
  },
  {
   "cell_type": "code",
   "execution_count": 171,
   "metadata": {},
   "outputs": [
    {
     "data": {
      "text/html": [
       "<div>\n",
       "<style scoped>\n",
       "    .dataframe tbody tr th:only-of-type {\n",
       "        vertical-align: middle;\n",
       "    }\n",
       "\n",
       "    .dataframe tbody tr th {\n",
       "        vertical-align: top;\n",
       "    }\n",
       "\n",
       "    .dataframe thead th {\n",
       "        text-align: right;\n",
       "    }\n",
       "</style>\n",
       "<table border=\"1\" class=\"dataframe\">\n",
       "  <thead>\n",
       "    <tr style=\"text-align: right;\">\n",
       "      <th></th>\n",
       "      <th>relationship</th>\n",
       "      <th>sex</th>\n",
       "      <th>religion</th>\n",
       "      <th>age</th>\n",
       "      <th>education_num</th>\n",
       "      <th>occupation_level</th>\n",
       "      <th>time_with_employer</th>\n",
       "      <th>hours_per_week</th>\n",
       "      <th>created_account</th>\n",
       "    </tr>\n",
       "  </thead>\n",
       "  <tbody>\n",
       "    <tr>\n",
       "      <th>8</th>\n",
       "      <td>None</td>\n",
       "      <td>None</td>\n",
       "      <td>None</td>\n",
       "      <td>31</td>\n",
       "      <td>18</td>\n",
       "      <td>12</td>\n",
       "      <td>NaN</td>\n",
       "      <td>NaN</td>\n",
       "      <td>Yes</td>\n",
       "    </tr>\n",
       "    <tr>\n",
       "      <th>12</th>\n",
       "      <td>None</td>\n",
       "      <td>None</td>\n",
       "      <td>None</td>\n",
       "      <td>23</td>\n",
       "      <td>17</td>\n",
       "      <td>10</td>\n",
       "      <td>NaN</td>\n",
       "      <td>NaN</td>\n",
       "      <td>No</td>\n",
       "    </tr>\n",
       "    <tr>\n",
       "      <th>19</th>\n",
       "      <td>None</td>\n",
       "      <td>None</td>\n",
       "      <td>None</td>\n",
       "      <td>43</td>\n",
       "      <td>18</td>\n",
       "      <td>6</td>\n",
       "      <td>NaN</td>\n",
       "      <td>NaN</td>\n",
       "      <td>No</td>\n",
       "    </tr>\n",
       "    <tr>\n",
       "      <th>29</th>\n",
       "      <td>None</td>\n",
       "      <td>None</td>\n",
       "      <td>None</td>\n",
       "      <td>39</td>\n",
       "      <td>12</td>\n",
       "      <td>5</td>\n",
       "      <td>NaN</td>\n",
       "      <td>NaN</td>\n",
       "      <td>No</td>\n",
       "    </tr>\n",
       "    <tr>\n",
       "      <th>38</th>\n",
       "      <td>None</td>\n",
       "      <td>None</td>\n",
       "      <td>None</td>\n",
       "      <td>19</td>\n",
       "      <td>12</td>\n",
       "      <td>10</td>\n",
       "      <td>NaN</td>\n",
       "      <td>NaN</td>\n",
       "      <td>No</td>\n",
       "    </tr>\n",
       "  </tbody>\n",
       "</table>\n",
       "</div>"
      ],
      "text/plain": [
       "   relationship   sex religion  age  education_num  occupation_level  \\\n",
       "8          None  None     None   31             18                12   \n",
       "12         None  None     None   23             17                10   \n",
       "19         None  None     None   43             18                 6   \n",
       "29         None  None     None   39             12                 5   \n",
       "38         None  None     None   19             12                10   \n",
       "\n",
       "    time_with_employer  hours_per_week created_account  \n",
       "8                  NaN             NaN             Yes  \n",
       "12                 NaN             NaN              No  \n",
       "19                 NaN             NaN              No  \n",
       "29                 NaN             NaN              No  \n",
       "38                 NaN             NaN              No  "
      ]
     },
     "execution_count": 171,
     "metadata": {},
     "output_type": "execute_result"
    }
   ],
   "source": [
    "# drop rows with 5 missing values\n",
    "df_hi.loc[df_hi[feature_cols].isna().sum(1)==5, feature_cols].head()"
   ]
  },
  {
   "cell_type": "code",
   "execution_count": 172,
   "metadata": {},
   "outputs": [
    {
     "data": {
      "text/plain": [
       "No     2367\n",
       "Yes     213\n",
       "Name: created_account, dtype: int64"
      ]
     },
     "execution_count": 172,
     "metadata": {},
     "output_type": "execute_result"
    }
   ],
   "source": [
    "df_hi_clean = df_hi.drop(df_hi[df_hi[feature_cols].isna().sum(1)==5].index)\n",
    "df_hi_clean['created_account'].value_counts()"
   ]
  },
  {
   "cell_type": "code",
   "execution_count": 173,
   "metadata": {},
   "outputs": [
    {
     "data": {
      "text/plain": [
       "No     0.917442\n",
       "Yes    0.082558\n",
       "Name: created_account, dtype: float64"
      ]
     },
     "execution_count": 173,
     "metadata": {},
     "output_type": "execute_result"
    }
   ],
   "source": [
    "df_hi_clean['created_account'].value_counts(normalize=True)"
   ]
  },
  {
   "cell_type": "markdown",
   "metadata": {},
   "source": [
    "## Train-test split\n",
    "This has to be done before fitting any predictors to avoid data-leakage"
   ]
  },
  {
   "cell_type": "code",
   "execution_count": 174,
   "metadata": {},
   "outputs": [],
   "source": [
    "X = df_hi_clean[feature_cols[:-1]]\n",
    "y = df_hi_clean[feature_cols[-1]]"
   ]
  },
  {
   "cell_type": "code",
   "execution_count": 178,
   "metadata": {},
   "outputs": [
    {
     "data": {
      "text/plain": [
       "False"
      ]
     },
     "execution_count": 178,
     "metadata": {},
     "output_type": "execute_result"
    }
   ],
   "source": [
    "X.isna().any().any()"
   ]
  },
  {
   "cell_type": "markdown",
   "metadata": {},
   "source": [
    "# Train-Test split"
   ]
  },
  {
   "cell_type": "code",
   "execution_count": 215,
   "metadata": {},
   "outputs": [],
   "source": [
    "X_train, X_test, y_train, y_test = train_test_split(X, y, random_state=42)"
   ]
  },
  {
   "cell_type": "code",
   "execution_count": 216,
   "metadata": {},
   "outputs": [
    {
     "data": {
      "text/plain": [
       "No     0.917829\n",
       "Yes    0.082171\n",
       "Name: created_account, dtype: float64"
      ]
     },
     "execution_count": 216,
     "metadata": {},
     "output_type": "execute_result"
    }
   ],
   "source": [
    "y_train.value_counts(normalize=True)"
   ]
  },
  {
   "cell_type": "markdown",
   "metadata": {},
   "source": [
    "## Impute\n",
    "No imputation needed, there's no missing value"
   ]
  },
  {
   "cell_type": "code",
   "execution_count": 217,
   "metadata": {},
   "outputs": [],
   "source": [
    "imputer = SimpleImputer(missing_values=np.nan, strategy='mean')"
   ]
  },
  {
   "cell_type": "code",
   "execution_count": 218,
   "metadata": {},
   "outputs": [
    {
     "data": {
      "text/plain": [
       "False"
      ]
     },
     "execution_count": 218,
     "metadata": {},
     "output_type": "execute_result"
    }
   ],
   "source": [
    "X_train.isna().any().any()"
   ]
  },
  {
   "cell_type": "markdown",
   "metadata": {},
   "source": [
    "## Transform"
   ]
  },
  {
   "cell_type": "code",
   "execution_count": 219,
   "metadata": {},
   "outputs": [],
   "source": [
    "oh_encoder = OneHotEncoder(drop='first', sparse=False)"
   ]
  },
  {
   "cell_type": "code",
   "execution_count": 220,
   "metadata": {},
   "outputs": [
    {
     "data": {
      "text/html": [
       "<style>#sk-container-id-10 {color: black;background-color: white;}#sk-container-id-10 pre{padding: 0;}#sk-container-id-10 div.sk-toggleable {background-color: white;}#sk-container-id-10 label.sk-toggleable__label {cursor: pointer;display: block;width: 100%;margin-bottom: 0;padding: 0.3em;box-sizing: border-box;text-align: center;}#sk-container-id-10 label.sk-toggleable__label-arrow:before {content: \"▸\";float: left;margin-right: 0.25em;color: #696969;}#sk-container-id-10 label.sk-toggleable__label-arrow:hover:before {color: black;}#sk-container-id-10 div.sk-estimator:hover label.sk-toggleable__label-arrow:before {color: black;}#sk-container-id-10 div.sk-toggleable__content {max-height: 0;max-width: 0;overflow: hidden;text-align: left;background-color: #f0f8ff;}#sk-container-id-10 div.sk-toggleable__content pre {margin: 0.2em;color: black;border-radius: 0.25em;background-color: #f0f8ff;}#sk-container-id-10 input.sk-toggleable__control:checked~div.sk-toggleable__content {max-height: 200px;max-width: 100%;overflow: auto;}#sk-container-id-10 input.sk-toggleable__control:checked~label.sk-toggleable__label-arrow:before {content: \"▾\";}#sk-container-id-10 div.sk-estimator input.sk-toggleable__control:checked~label.sk-toggleable__label {background-color: #d4ebff;}#sk-container-id-10 div.sk-label input.sk-toggleable__control:checked~label.sk-toggleable__label {background-color: #d4ebff;}#sk-container-id-10 input.sk-hidden--visually {border: 0;clip: rect(1px 1px 1px 1px);clip: rect(1px, 1px, 1px, 1px);height: 1px;margin: -1px;overflow: hidden;padding: 0;position: absolute;width: 1px;}#sk-container-id-10 div.sk-estimator {font-family: monospace;background-color: #f0f8ff;border: 1px dotted black;border-radius: 0.25em;box-sizing: border-box;margin-bottom: 0.5em;}#sk-container-id-10 div.sk-estimator:hover {background-color: #d4ebff;}#sk-container-id-10 div.sk-parallel-item::after {content: \"\";width: 100%;border-bottom: 1px solid gray;flex-grow: 1;}#sk-container-id-10 div.sk-label:hover label.sk-toggleable__label {background-color: #d4ebff;}#sk-container-id-10 div.sk-serial::before {content: \"\";position: absolute;border-left: 1px solid gray;box-sizing: border-box;top: 0;bottom: 0;left: 50%;z-index: 0;}#sk-container-id-10 div.sk-serial {display: flex;flex-direction: column;align-items: center;background-color: white;padding-right: 0.2em;padding-left: 0.2em;position: relative;}#sk-container-id-10 div.sk-item {position: relative;z-index: 1;}#sk-container-id-10 div.sk-parallel {display: flex;align-items: stretch;justify-content: center;background-color: white;position: relative;}#sk-container-id-10 div.sk-item::before, #sk-container-id-10 div.sk-parallel-item::before {content: \"\";position: absolute;border-left: 1px solid gray;box-sizing: border-box;top: 0;bottom: 0;left: 50%;z-index: -1;}#sk-container-id-10 div.sk-parallel-item {display: flex;flex-direction: column;z-index: 1;position: relative;background-color: white;}#sk-container-id-10 div.sk-parallel-item:first-child::after {align-self: flex-end;width: 50%;}#sk-container-id-10 div.sk-parallel-item:last-child::after {align-self: flex-start;width: 50%;}#sk-container-id-10 div.sk-parallel-item:only-child::after {width: 0;}#sk-container-id-10 div.sk-dashed-wrapped {border: 1px dashed gray;margin: 0 0.4em 0.5em 0.4em;box-sizing: border-box;padding-bottom: 0.4em;background-color: white;}#sk-container-id-10 div.sk-label label {font-family: monospace;font-weight: bold;display: inline-block;line-height: 1.2em;}#sk-container-id-10 div.sk-label-container {text-align: center;}#sk-container-id-10 div.sk-container {/* jupyter's `normalize.less` sets `[hidden] { display: none; }` but bootstrap.min.css set `[hidden] { display: none !important; }` so we also need the `!important` here to be able to override the default hidden behavior on the sphinx rendered scikit-learn.org. See: https://github.com/scikit-learn/scikit-learn/issues/21755 */display: inline-block !important;position: relative;}#sk-container-id-10 div.sk-text-repr-fallback {display: none;}</style><div id=\"sk-container-id-10\" class=\"sk-top-container\"><div class=\"sk-text-repr-fallback\"><pre>OneHotEncoder(drop=&#x27;first&#x27;, sparse=False)</pre><b>In a Jupyter environment, please rerun this cell to show the HTML representation or trust the notebook. <br />On GitHub, the HTML representation is unable to render, please try loading this page with nbviewer.org.</b></div><div class=\"sk-container\" hidden><div class=\"sk-item\"><div class=\"sk-estimator sk-toggleable\"><input class=\"sk-toggleable__control sk-hidden--visually\" id=\"sk-estimator-id-10\" type=\"checkbox\" checked><label for=\"sk-estimator-id-10\" class=\"sk-toggleable__label sk-toggleable__label-arrow\">OneHotEncoder</label><div class=\"sk-toggleable__content\"><pre>OneHotEncoder(drop=&#x27;first&#x27;, sparse=False)</pre></div></div></div></div></div>"
      ],
      "text/plain": [
       "OneHotEncoder(drop='first', sparse=False)"
      ]
     },
     "execution_count": 220,
     "metadata": {},
     "output_type": "execute_result"
    }
   ],
   "source": [
    "oh_encoder.fit(X_train[cat_cols])"
   ]
  },
  {
   "cell_type": "code",
   "execution_count": 221,
   "metadata": {},
   "outputs": [],
   "source": [
    "# pd.concat([X_train[num_cols], pd.DataFrame(oh_encoder.transform(X_train[cat_cols]).toarray(),\n",
    "#              columns=oh_encoder.get_feature_names_out())], axis=0, ignore_index=True)\n",
    "\n",
    "X_train[oh_encoder.get_feature_names_out()] = oh_encoder.transform(X_train[cat_cols]) #.toarray()\n",
    "X_train.drop(columns=cat_cols, inplace=True)"
   ]
  },
  {
   "cell_type": "code",
   "execution_count": 222,
   "metadata": {},
   "outputs": [
    {
     "data": {
      "text/plain": [
       "False"
      ]
     },
     "execution_count": 222,
     "metadata": {},
     "output_type": "execute_result"
    }
   ],
   "source": [
    "X_train.isna().any().any()"
   ]
  },
  {
   "cell_type": "code",
   "execution_count": 223,
   "metadata": {},
   "outputs": [
    {
     "data": {
      "text/html": [
       "<div>\n",
       "<style scoped>\n",
       "    .dataframe tbody tr th:only-of-type {\n",
       "        vertical-align: middle;\n",
       "    }\n",
       "\n",
       "    .dataframe tbody tr th {\n",
       "        vertical-align: top;\n",
       "    }\n",
       "\n",
       "    .dataframe thead th {\n",
       "        text-align: right;\n",
       "    }\n",
       "</style>\n",
       "<table border=\"1\" class=\"dataframe\">\n",
       "  <thead>\n",
       "    <tr style=\"text-align: right;\">\n",
       "      <th></th>\n",
       "      <th>age</th>\n",
       "      <th>education_num</th>\n",
       "      <th>occupation_level</th>\n",
       "      <th>time_with_employer</th>\n",
       "      <th>hours_per_week</th>\n",
       "      <th>relationship_Not-in-family</th>\n",
       "      <th>relationship_Other-relative</th>\n",
       "      <th>relationship_Own-child</th>\n",
       "      <th>relationship_Unmarried</th>\n",
       "      <th>relationship_Wife</th>\n",
       "      <th>sex_Male</th>\n",
       "      <th>religion_Christianity</th>\n",
       "      <th>religion_Hinduism</th>\n",
       "      <th>religion_Islam</th>\n",
       "      <th>religion_Judaism</th>\n",
       "      <th>religion_Not Stated</th>\n",
       "      <th>religion_Other religions</th>\n",
       "      <th>religion_Sikhism</th>\n",
       "    </tr>\n",
       "  </thead>\n",
       "  <tbody>\n",
       "    <tr>\n",
       "      <th>2822</th>\n",
       "      <td>24</td>\n",
       "      <td>13</td>\n",
       "      <td>3</td>\n",
       "      <td>4.083333</td>\n",
       "      <td>24.0</td>\n",
       "      <td>1.0</td>\n",
       "      <td>0.0</td>\n",
       "      <td>0.0</td>\n",
       "      <td>0.0</td>\n",
       "      <td>0.0</td>\n",
       "      <td>1.0</td>\n",
       "      <td>0.0</td>\n",
       "      <td>0.0</td>\n",
       "      <td>0.0</td>\n",
       "      <td>0.0</td>\n",
       "      <td>1.0</td>\n",
       "      <td>0.0</td>\n",
       "      <td>0.0</td>\n",
       "    </tr>\n",
       "    <tr>\n",
       "      <th>975</th>\n",
       "      <td>37</td>\n",
       "      <td>12</td>\n",
       "      <td>4</td>\n",
       "      <td>1.583333</td>\n",
       "      <td>40.0</td>\n",
       "      <td>0.0</td>\n",
       "      <td>0.0</td>\n",
       "      <td>0.0</td>\n",
       "      <td>0.0</td>\n",
       "      <td>0.0</td>\n",
       "      <td>1.0</td>\n",
       "      <td>0.0</td>\n",
       "      <td>0.0</td>\n",
       "      <td>0.0</td>\n",
       "      <td>0.0</td>\n",
       "      <td>1.0</td>\n",
       "      <td>0.0</td>\n",
       "      <td>0.0</td>\n",
       "    </tr>\n",
       "    <tr>\n",
       "      <th>207</th>\n",
       "      <td>35</td>\n",
       "      <td>12</td>\n",
       "      <td>10</td>\n",
       "      <td>12.750000</td>\n",
       "      <td>60.0</td>\n",
       "      <td>1.0</td>\n",
       "      <td>0.0</td>\n",
       "      <td>0.0</td>\n",
       "      <td>0.0</td>\n",
       "      <td>0.0</td>\n",
       "      <td>1.0</td>\n",
       "      <td>1.0</td>\n",
       "      <td>0.0</td>\n",
       "      <td>0.0</td>\n",
       "      <td>0.0</td>\n",
       "      <td>0.0</td>\n",
       "      <td>0.0</td>\n",
       "      <td>0.0</td>\n",
       "    </tr>\n",
       "    <tr>\n",
       "      <th>490</th>\n",
       "      <td>46</td>\n",
       "      <td>12</td>\n",
       "      <td>6</td>\n",
       "      <td>0.833333</td>\n",
       "      <td>40.0</td>\n",
       "      <td>1.0</td>\n",
       "      <td>0.0</td>\n",
       "      <td>0.0</td>\n",
       "      <td>0.0</td>\n",
       "      <td>0.0</td>\n",
       "      <td>1.0</td>\n",
       "      <td>1.0</td>\n",
       "      <td>0.0</td>\n",
       "      <td>0.0</td>\n",
       "      <td>0.0</td>\n",
       "      <td>0.0</td>\n",
       "      <td>0.0</td>\n",
       "      <td>0.0</td>\n",
       "    </tr>\n",
       "    <tr>\n",
       "      <th>3008</th>\n",
       "      <td>38</td>\n",
       "      <td>12</td>\n",
       "      <td>4</td>\n",
       "      <td>1.083333</td>\n",
       "      <td>30.0</td>\n",
       "      <td>0.0</td>\n",
       "      <td>0.0</td>\n",
       "      <td>0.0</td>\n",
       "      <td>0.0</td>\n",
       "      <td>0.0</td>\n",
       "      <td>1.0</td>\n",
       "      <td>1.0</td>\n",
       "      <td>0.0</td>\n",
       "      <td>0.0</td>\n",
       "      <td>0.0</td>\n",
       "      <td>0.0</td>\n",
       "      <td>0.0</td>\n",
       "      <td>0.0</td>\n",
       "    </tr>\n",
       "  </tbody>\n",
       "</table>\n",
       "</div>"
      ],
      "text/plain": [
       "      age  education_num  occupation_level  time_with_employer  \\\n",
       "2822   24             13                 3            4.083333   \n",
       "975    37             12                 4            1.583333   \n",
       "207    35             12                10           12.750000   \n",
       "490    46             12                 6            0.833333   \n",
       "3008   38             12                 4            1.083333   \n",
       "\n",
       "      hours_per_week  relationship_Not-in-family  relationship_Other-relative  \\\n",
       "2822            24.0                         1.0                          0.0   \n",
       "975             40.0                         0.0                          0.0   \n",
       "207             60.0                         1.0                          0.0   \n",
       "490             40.0                         1.0                          0.0   \n",
       "3008            30.0                         0.0                          0.0   \n",
       "\n",
       "      relationship_Own-child  relationship_Unmarried  relationship_Wife  \\\n",
       "2822                     0.0                     0.0                0.0   \n",
       "975                      0.0                     0.0                0.0   \n",
       "207                      0.0                     0.0                0.0   \n",
       "490                      0.0                     0.0                0.0   \n",
       "3008                     0.0                     0.0                0.0   \n",
       "\n",
       "      sex_Male  religion_Christianity  religion_Hinduism  religion_Islam  \\\n",
       "2822       1.0                    0.0                0.0             0.0   \n",
       "975        1.0                    0.0                0.0             0.0   \n",
       "207        1.0                    1.0                0.0             0.0   \n",
       "490        1.0                    1.0                0.0             0.0   \n",
       "3008       1.0                    1.0                0.0             0.0   \n",
       "\n",
       "      religion_Judaism  religion_Not Stated  religion_Other religions  \\\n",
       "2822               0.0                  1.0                       0.0   \n",
       "975                0.0                  1.0                       0.0   \n",
       "207                0.0                  0.0                       0.0   \n",
       "490                0.0                  0.0                       0.0   \n",
       "3008               0.0                  0.0                       0.0   \n",
       "\n",
       "      religion_Sikhism  \n",
       "2822               0.0  \n",
       "975                0.0  \n",
       "207                0.0  \n",
       "490                0.0  \n",
       "3008               0.0  "
      ]
     },
     "execution_count": 223,
     "metadata": {},
     "output_type": "execute_result"
    }
   ],
   "source": [
    "X_train.head()"
   ]
  },
  {
   "cell_type": "markdown",
   "metadata": {},
   "source": [
    "__Scale__"
   ]
  },
  {
   "cell_type": "code",
   "execution_count": 224,
   "metadata": {},
   "outputs": [],
   "source": [
    "scaler = StandardScaler()"
   ]
  },
  {
   "cell_type": "code",
   "execution_count": 225,
   "metadata": {},
   "outputs": [
    {
     "data": {
      "text/html": [
       "<div>\n",
       "<style scoped>\n",
       "    .dataframe tbody tr th:only-of-type {\n",
       "        vertical-align: middle;\n",
       "    }\n",
       "\n",
       "    .dataframe tbody tr th {\n",
       "        vertical-align: top;\n",
       "    }\n",
       "\n",
       "    .dataframe thead th {\n",
       "        text-align: right;\n",
       "    }\n",
       "</style>\n",
       "<table border=\"1\" class=\"dataframe\">\n",
       "  <thead>\n",
       "    <tr style=\"text-align: right;\">\n",
       "      <th></th>\n",
       "      <th>age</th>\n",
       "      <th>education_num</th>\n",
       "      <th>occupation_level</th>\n",
       "      <th>time_with_employer</th>\n",
       "      <th>hours_per_week</th>\n",
       "      <th>relationship_Not-in-family</th>\n",
       "      <th>relationship_Other-relative</th>\n",
       "      <th>relationship_Own-child</th>\n",
       "      <th>relationship_Unmarried</th>\n",
       "      <th>relationship_Wife</th>\n",
       "      <th>sex_Male</th>\n",
       "      <th>religion_Christianity</th>\n",
       "      <th>religion_Hinduism</th>\n",
       "      <th>religion_Islam</th>\n",
       "      <th>religion_Judaism</th>\n",
       "      <th>religion_Not Stated</th>\n",
       "      <th>religion_Other religions</th>\n",
       "      <th>religion_Sikhism</th>\n",
       "    </tr>\n",
       "  </thead>\n",
       "  <tbody>\n",
       "    <tr>\n",
       "      <th>2822</th>\n",
       "      <td>-1.097746</td>\n",
       "      <td>-0.059087</td>\n",
       "      <td>-1.228493</td>\n",
       "      <td>-0.274960</td>\n",
       "      <td>-1.416246</td>\n",
       "      <td>1.0</td>\n",
       "      <td>0.0</td>\n",
       "      <td>0.0</td>\n",
       "      <td>0.0</td>\n",
       "      <td>0.0</td>\n",
       "      <td>1.0</td>\n",
       "      <td>0.0</td>\n",
       "      <td>0.0</td>\n",
       "      <td>0.0</td>\n",
       "      <td>0.0</td>\n",
       "      <td>1.0</td>\n",
       "      <td>0.0</td>\n",
       "      <td>0.0</td>\n",
       "    </tr>\n",
       "    <tr>\n",
       "      <th>975</th>\n",
       "      <td>-0.131654</td>\n",
       "      <td>-0.363973</td>\n",
       "      <td>-0.968270</td>\n",
       "      <td>-0.645355</td>\n",
       "      <td>-0.068932</td>\n",
       "      <td>0.0</td>\n",
       "      <td>0.0</td>\n",
       "      <td>0.0</td>\n",
       "      <td>0.0</td>\n",
       "      <td>0.0</td>\n",
       "      <td>1.0</td>\n",
       "      <td>0.0</td>\n",
       "      <td>0.0</td>\n",
       "      <td>0.0</td>\n",
       "      <td>0.0</td>\n",
       "      <td>1.0</td>\n",
       "      <td>0.0</td>\n",
       "      <td>0.0</td>\n",
       "    </tr>\n",
       "    <tr>\n",
       "      <th>207</th>\n",
       "      <td>-0.280284</td>\n",
       "      <td>-0.363973</td>\n",
       "      <td>0.593066</td>\n",
       "      <td>1.009075</td>\n",
       "      <td>1.615210</td>\n",
       "      <td>1.0</td>\n",
       "      <td>0.0</td>\n",
       "      <td>0.0</td>\n",
       "      <td>0.0</td>\n",
       "      <td>0.0</td>\n",
       "      <td>1.0</td>\n",
       "      <td>1.0</td>\n",
       "      <td>0.0</td>\n",
       "      <td>0.0</td>\n",
       "      <td>0.0</td>\n",
       "      <td>0.0</td>\n",
       "      <td>0.0</td>\n",
       "      <td>0.0</td>\n",
       "    </tr>\n",
       "    <tr>\n",
       "      <th>490</th>\n",
       "      <td>0.537179</td>\n",
       "      <td>-0.363973</td>\n",
       "      <td>-0.447825</td>\n",
       "      <td>-0.756473</td>\n",
       "      <td>-0.068932</td>\n",
       "      <td>1.0</td>\n",
       "      <td>0.0</td>\n",
       "      <td>0.0</td>\n",
       "      <td>0.0</td>\n",
       "      <td>0.0</td>\n",
       "      <td>1.0</td>\n",
       "      <td>1.0</td>\n",
       "      <td>0.0</td>\n",
       "      <td>0.0</td>\n",
       "      <td>0.0</td>\n",
       "      <td>0.0</td>\n",
       "      <td>0.0</td>\n",
       "      <td>0.0</td>\n",
       "    </tr>\n",
       "    <tr>\n",
       "      <th>3008</th>\n",
       "      <td>-0.057340</td>\n",
       "      <td>-0.363973</td>\n",
       "      <td>-0.968270</td>\n",
       "      <td>-0.719434</td>\n",
       "      <td>-0.911004</td>\n",
       "      <td>0.0</td>\n",
       "      <td>0.0</td>\n",
       "      <td>0.0</td>\n",
       "      <td>0.0</td>\n",
       "      <td>0.0</td>\n",
       "      <td>1.0</td>\n",
       "      <td>1.0</td>\n",
       "      <td>0.0</td>\n",
       "      <td>0.0</td>\n",
       "      <td>0.0</td>\n",
       "      <td>0.0</td>\n",
       "      <td>0.0</td>\n",
       "      <td>0.0</td>\n",
       "    </tr>\n",
       "  </tbody>\n",
       "</table>\n",
       "</div>"
      ],
      "text/plain": [
       "           age  education_num  occupation_level  time_with_employer  \\\n",
       "2822 -1.097746      -0.059087         -1.228493           -0.274960   \n",
       "975  -0.131654      -0.363973         -0.968270           -0.645355   \n",
       "207  -0.280284      -0.363973          0.593066            1.009075   \n",
       "490   0.537179      -0.363973         -0.447825           -0.756473   \n",
       "3008 -0.057340      -0.363973         -0.968270           -0.719434   \n",
       "\n",
       "      hours_per_week  relationship_Not-in-family  relationship_Other-relative  \\\n",
       "2822       -1.416246                         1.0                          0.0   \n",
       "975        -0.068932                         0.0                          0.0   \n",
       "207         1.615210                         1.0                          0.0   \n",
       "490        -0.068932                         1.0                          0.0   \n",
       "3008       -0.911004                         0.0                          0.0   \n",
       "\n",
       "      relationship_Own-child  relationship_Unmarried  relationship_Wife  \\\n",
       "2822                     0.0                     0.0                0.0   \n",
       "975                      0.0                     0.0                0.0   \n",
       "207                      0.0                     0.0                0.0   \n",
       "490                      0.0                     0.0                0.0   \n",
       "3008                     0.0                     0.0                0.0   \n",
       "\n",
       "      sex_Male  religion_Christianity  religion_Hinduism  religion_Islam  \\\n",
       "2822       1.0                    0.0                0.0             0.0   \n",
       "975        1.0                    0.0                0.0             0.0   \n",
       "207        1.0                    1.0                0.0             0.0   \n",
       "490        1.0                    1.0                0.0             0.0   \n",
       "3008       1.0                    1.0                0.0             0.0   \n",
       "\n",
       "      religion_Judaism  religion_Not Stated  religion_Other religions  \\\n",
       "2822               0.0                  1.0                       0.0   \n",
       "975                0.0                  1.0                       0.0   \n",
       "207                0.0                  0.0                       0.0   \n",
       "490                0.0                  0.0                       0.0   \n",
       "3008               0.0                  0.0                       0.0   \n",
       "\n",
       "      religion_Sikhism  \n",
       "2822               0.0  \n",
       "975                0.0  \n",
       "207                0.0  \n",
       "490                0.0  \n",
       "3008               0.0  "
      ]
     },
     "execution_count": 225,
     "metadata": {},
     "output_type": "execute_result"
    }
   ],
   "source": [
    "X_train[num_cols] = scaler.fit_transform(X_train[num_cols])\n",
    "X_train.head()"
   ]
  },
  {
   "cell_type": "markdown",
   "metadata": {},
   "source": [
    "## Modelling"
   ]
  },
  {
   "cell_type": "code",
   "execution_count": 245,
   "metadata": {},
   "outputs": [],
   "source": [
    "from sklearn.svm import SVC\n",
    "from sklearn.tree import DecisionTreeClassifier\n",
    "from sklearn.ensemble import RandomForestClassifier\n",
    "from sklearn.naive_bayes import GaussianNB\n",
    "from sklearn.linear_model import LogisticRegression\n",
    "\n",
    "from sklearn.metrics import confusion_matrix\n",
    "from sklearn.metrics import accuracy_score, f1_score, recall_score, precision_score, roc_curve"
   ]
  },
  {
   "cell_type": "code",
   "execution_count": 246,
   "metadata": {},
   "outputs": [],
   "source": [
    "models = [SVC(), DecisionTreeClassifier(), RandomForestClassifier(), GaussianNB(), LogisticRegression()]"
   ]
  },
  {
   "cell_type": "code",
   "execution_count": 248,
   "metadata": {},
   "outputs": [
    {
     "name": "stdout",
     "output_type": "stream",
     "text": [
      "SVC():\t TRA: 91.78%,\t TRF1: 0.00%\n",
      "DecisionTreeClassifier():\t TRA: 100.00%,\t TRF1: 100.00%\n",
      "RandomForestClassifier():\t TRA: 100.00%,\t TRF1: 100.00%\n",
      "GaussianNB():\t TRA: 34.94%,\t TRF1: 19.96%\n",
      "LogisticRegression():\t TRA: 91.99%,\t TRF1: 25.84%\n"
     ]
    }
   ],
   "source": [
    "trained_models = []\n",
    "\n",
    "for model in models:\n",
    "    model = model.fit(X_train, y_train.map({'No':0, 'Yes':1}))\n",
    "    \n",
    "    pred_train = model.predict(X_train)\n",
    "#     pred_test = model.transform(X_test)\n",
    "    \n",
    "    # Evaluate Accuracy\n",
    "    train_accuracy = accuracy_score(y_train.map({'No':0, 'Yes':1}), pred_train)\n",
    "#     test_accuracy = accuracy_evaluator.evaluate(pred_test.select(col('label'), col('prediction')))\n",
    "    \n",
    "    # Evaluate F1 score\n",
    "    train_f1 = f1_score(y_train.map({'No':0, 'Yes':1}), pred_train)\n",
    "#     test_f1 = f1_evaluator.evaluate(pred_test.select(col('label'), col('prediction')))\n",
    "    \n",
    "    # Output\n",
    "    model_name = model.__repr__().split(':')[0]\n",
    "#     print(f'{model_name}:\\t TRA: {train_accuracy:.2%},\\t TSA: {test_accuracy:.2%}\\t TRF1: {train_f1:.2%},\\t TSF1: {test_f1:.2%}')\n",
    "    print(f'{model_name}:\\t TRA: {train_accuracy:.2%},\\t TRF1: {train_f1:.2%}')\n",
    "#     model_evals.append([model_name, train_accuracy, test_accuracy, train_f1, test_f1])\n",
    "    trained_models.append(model)"
   ]
  },
  {
   "cell_type": "code",
   "execution_count": 251,
   "metadata": {},
   "outputs": [
    {
     "data": {
      "text/plain": [
       "array([0.18835772, 0.14310041, 0.21624461, 0.21015056, 0.11541485,\n",
       "       0.02342761, 0.00104671, 0.0083282 , 0.00808896, 0.01085031,\n",
       "       0.01726623, 0.02054806, 0.00807976, 0.01250449, 0.00138443,\n",
       "       0.01395751, 0.0003192 , 0.00093038])"
      ]
     },
     "execution_count": 251,
     "metadata": {},
     "output_type": "execute_result"
    }
   ],
   "source": [
    "trained_models[2].feature_importances_\n"
   ]
  },
  {
   "cell_type": "code",
   "execution_count": 254,
   "metadata": {},
   "outputs": [],
   "source": [
    "forest = trained_models[2]\n",
    "\n",
    "importances = forest.feature_importances_\n",
    "std = np.std([tree.feature_importances_ for tree in forest.estimators_], axis=0)"
   ]
  },
  {
   "cell_type": "code",
   "execution_count": 256,
   "metadata": {},
   "outputs": [
    {
     "data": {
      "text/plain": [
       "array(['age', 'education_num', 'occupation_level', 'time_with_employer',\n",
       "       'hours_per_week', 'relationship_Not-in-family',\n",
       "       'relationship_Other-relative', 'relationship_Own-child',\n",
       "       'relationship_Unmarried', 'relationship_Wife', 'sex_Male',\n",
       "       'religion_Christianity', 'religion_Hinduism', 'religion_Islam',\n",
       "       'religion_Judaism', 'religion_Not Stated',\n",
       "       'religion_Other religions', 'religion_Sikhism'], dtype=object)"
      ]
     },
     "execution_count": 256,
     "metadata": {},
     "output_type": "execute_result"
    }
   ],
   "source": [
    "forest.feature_names_in_"
   ]
  },
  {
   "cell_type": "code",
   "execution_count": 259,
   "metadata": {},
   "outputs": [
    {
     "data": {
      "image/png": "[encoded data removed]",
      "text/plain": [
       "<Figure size 640x480 with 1 Axes>"
      ]
     },
     "metadata": {},
     "output_type": "display_data"
    }
   ],
   "source": [
    "forest_importances = pd.Series(importances, index=forest.feature_names_in_)\n",
    "\n",
    "fig, ax = plt.subplots()\n",
    "forest_importances.plot.bar(yerr=std, ax=ax)\n",
    "ax.set_title(\"Feature importances using MDI\")\n",
    "ax.set_ylabel(\"Mean decrease in impurity\")\n",
    "fig.tight_layout()"
   ]
  },
  {
   "cell_type": "code",
   "execution_count": 236,
   "metadata": {},
   "outputs": [
    {
     "name": "stdout",
     "output_type": "stream",
     "text": [
      "f1:  0.2583732057416268\n",
      "recall:  0.16981132075471697\n",
      "recall:  0.16981132075471697\n",
      "[[1753   23]\n",
      " [ 132   27]]\n",
      "[[1776    0]\n",
      " [   0  159]]\n"
     ]
    }
   ],
   "source": [
    "print('f1: ', f1_score(y_train.map({'No':0, 'Yes':1}), y_train_pred))\n",
    "print('recall: ', recall_score(y_train.map({'No':0, 'Yes':1}), y_train_pred))\n",
    "print('recall: ', recall_score(y_train.map({'No':0, 'Yes':1}), y_train_pred))\n",
    "\n",
    "print(confusion_matrix(y_train.map({'No':0, 'Yes':1}), y_train_pred, labels=[0, 1]))\n",
    "print(confusion_matrix(y_train, y_train))"
   ]
  },
  {
   "cell_type": "code",
   "execution_count": 237,
   "metadata": {},
   "outputs": [
    {
     "name": "stdout",
     "output_type": "stream",
     "text": [
      "f1:  1.0\n",
      "recall:  1.0\n",
      "recall:  1.0\n",
      "[[1776    0]\n",
      " [   0  159]]\n",
      "[[1776    0]\n",
      " [   0  159]]\n"
     ]
    }
   ],
   "source": [
    "rfc = RandomForestClassifier()\n",
    "rfc.fit(X_train, y_train.map({'No':0, 'Yes':1}))\n",
    "\n",
    "y_train_pred = rfc.predict(X_train)\n",
    "\n",
    "print('f1: ', f1_score(y_train.map({'No':0, 'Yes':1}), y_train_pred))\n",
    "print('recall: ', recall_score(y_train.map({'No':0, 'Yes':1}), y_train_pred))\n",
    "print('recall: ', recall_score(y_train.map({'No':0, 'Yes':1}), y_train_pred))\n",
    "\n",
    "print(confusion_matrix(y_train.map({'No':0, 'Yes':1}), y_train_pred, labels=[0, 1]))\n",
    "print(confusion_matrix(y_train, y_train))"
   ]
  },
  {
   "cell_type": "code",
   "execution_count": 240,
   "metadata": {},
   "outputs": [
    {
     "data": {
      "text/plain": [
       "array([[1.  , 0.  ],\n",
       "       [0.98, 0.02],\n",
       "       [1.  , 0.  ],\n",
       "       ...,\n",
       "       [1.  , 0.  ],\n",
       "       [1.  , 0.  ],\n",
       "       [1.  , 0.  ]])"
      ]
     },
     "execution_count": 240,
     "metadata": {},
     "output_type": "execute_result"
    }
   ],
   "source": [
    "rfc.predict_proba(X_train)"
   ]
  },
  {
   "cell_type": "code",
   "execution_count": 242,
   "metadata": {},
   "outputs": [
    {
     "name": "stdout",
     "output_type": "stream",
     "text": [
      "f1:  0.19961856325492688\n",
      "recall:  0.9874213836477987\n",
      "precision:  0.11103253182461104\n",
      "[[ 519 1257]\n",
      " [   2  157]]\n",
      "[[1776    0]\n",
      " [   0  159]]\n"
     ]
    }
   ],
   "source": [
    "nb = GaussianNB()\n",
    "nb.fit(X_train, y_train.map({'No':0, 'Yes':1}))\n",
    "\n",
    "y_train_pred = nb.predict(X_train)\n",
    "\n",
    "print('f1: ', f1_score(y_train.map({'No':0, 'Yes':1}), y_train_pred))\n",
    "print('recall: ', recall_score(y_train.map({'No':0, 'Yes':1}), y_train_pred))\n",
    "print('precision: ', precision_score(y_train.map({'No':0, 'Yes':1}), y_train_pred))\n",
    "\n",
    "print(confusion_matrix(y_train.map({'No':0, 'Yes':1}), y_train_pred, labels=[0, 1]))\n",
    "print(confusion_matrix(y_train, y_train))"
   ]
  },
  {
   "cell_type": "code",
   "execution_count": null,
   "metadata": {},
   "outputs": [],
   "source": []
  }
 ],
 "metadata": {
  "kernelspec": {
   "display_name": "Python 3 (ipykernel)",
   "language": "python",
   "name": "python3"
  },
  "language_info": {
   "codemirror_mode": {
    "name": "ipython",
    "version": 3
   },
   "file_extension": ".py",
   "mimetype": "text/x-python",
   "name": "python",
   "nbconvert_exporter": "python",
   "pygments_lexer": "ipython3",
   "version": "3.10.6"
  }
 },
 "nbformat": 4,
 "nbformat_minor": 4
}
